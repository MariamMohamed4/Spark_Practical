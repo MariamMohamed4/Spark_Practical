{
  "nbformat": 4,
  "nbformat_minor": 0,
  "metadata": {
    "colab": {
      "name": "Session_2_H_W.ipynb",
      "provenance": [],
      "collapsed_sections": []
    },
    "kernelspec": {
      "display_name": "Python 3",
      "language": "python",
      "name": "python3"
    },
    "language_info": {
      "codemirror_mode": {
        "name": "ipython",
        "version": 3
      },
      "file_extension": ".py",
      "mimetype": "text/x-python",
      "name": "python",
      "nbconvert_exporter": "python",
      "pygments_lexer": "ipython3",
      "version": "3.8.8"
    }
  },
  "cells": [
    {
      "cell_type": "markdown",
      "metadata": {
        "id": "vIwZsU0haNkj"
      },
      "source": [
        "## Task 1 - SQL"
      ]
    },
    {
      "cell_type": "code",
      "metadata": {
        "id": "e477b956"
      },
      "source": [
        "import findspark\n",
        "import pyspark\n",
        "from pyspark.sql import SparkSession \n",
        "from pyspark.sql.functions import *"
      ],
      "execution_count": 28,
      "outputs": []
    },
    {
      "cell_type": "markdown",
      "metadata": {
        "id": "45wCuSvgajao"
      },
      "source": [
        "### Build SparkSession:"
      ]
    },
    {
      "cell_type": "code",
      "metadata": {
        "id": "JwcbnqiymCE3"
      },
      "source": [
        "spark = SparkSession.builder \\\n",
        "    .master(\"local\") \\\n",
        "    .getOrCreate()"
      ],
      "execution_count": 6,
      "outputs": []
    },
    {
      "cell_type": "markdown",
      "metadata": {
        "id": "g8HITwTqnJcX"
      },
      "source": [
        "### Read the json file:"
      ]
    },
    {
      "cell_type": "code",
      "metadata": {
        "id": "93iqAB7tnMYQ",
        "colab": {
          "base_uri": "https://localhost:8080/"
        },
        "outputId": "ab670739-75fc-44cd-dc92-187d8c321bb4"
      },
      "source": [
        "DF = spark.read.json('DataFrames_sample.json')\n",
        "DF.show()"
      ],
      "execution_count": 10,
      "outputs": [
        {
          "output_type": "stream",
          "name": "stdout",
          "text": [
            "+----+----+---------+---+-----------+----+----------+-----+------+----+\n",
            "|   D|   H|      HDD| Id|      Model| RAM|ScreenSize|    W|Weight|Year|\n",
            "+----+----+---------+---+-----------+----+----------+-----+------+----+\n",
            "|9.48|0.61|512GB SSD|  1|MacBook Pro|16GB|       15\"|13.75|  4.02|2015|\n",
            "|7.74|0.52|256GB SSD|  2|    MacBook| 8GB|       12\"|11.04|  2.03|2016|\n",
            "|8.94|0.68|128GB SSD|  3|MacBook Air| 8GB|     13.3\"| 12.8|  2.96|2016|\n",
            "| 8.0|20.3|  1TB SSD|  4|       iMac|64GB|       27\"| 25.6|  20.8|2017|\n",
            "+----+----+---------+---+-----------+----+----------+-----+------+----+\n",
            "\n"
          ]
        }
      ]
    },
    {
      "cell_type": "markdown",
      "metadata": {
        "id": "jNx0qMfunbKX"
      },
      "source": [
        "### Display the schema:\n"
      ]
    },
    {
      "cell_type": "code",
      "metadata": {
        "id": "UG4CcVJenc9y",
        "colab": {
          "base_uri": "https://localhost:8080/"
        },
        "outputId": "8bea50f4-6fcf-4ce6-9931-14698acb55a6"
      },
      "source": [
        "DF.printSchema()"
      ],
      "execution_count": 8,
      "outputs": [
        {
          "output_type": "stream",
          "name": "stdout",
          "text": [
            "root\n",
            " |-- D: double (nullable = true)\n",
            " |-- H: double (nullable = true)\n",
            " |-- HDD: string (nullable = true)\n",
            " |-- Id: long (nullable = true)\n",
            " |-- Model: string (nullable = true)\n",
            " |-- RAM: string (nullable = true)\n",
            " |-- ScreenSize: string (nullable = true)\n",
            " |-- W: double (nullable = true)\n",
            " |-- Weight: double (nullable = true)\n",
            " |-- Year: long (nullable = true)\n",
            "\n"
          ]
        }
      ]
    },
    {
      "cell_type": "markdown",
      "metadata": {
        "id": "Zaj0nHTcngEF"
      },
      "source": [
        "### Get all the data when \"Model\" equal \"MacBook Pro\":\n",
        "\n",
        "\n"
      ]
    },
    {
      "cell_type": "code",
      "metadata": {
        "id": "Vm9QPKBCnkuS",
        "colab": {
          "base_uri": "https://localhost:8080/"
        },
        "outputId": "503d1dc0-05fb-4e39-ead1-90ef83261ef1"
      },
      "source": [
        "DF.createOrReplaceTempView(\"df_tbl\")\n",
        "spark.sql('SELECT * FROM df_tbl where Model= \"MacBook Pro\"').show()"
      ],
      "execution_count": 23,
      "outputs": [
        {
          "output_type": "stream",
          "name": "stdout",
          "text": [
            "+----+----+---------+---+-----------+----+----------+-----+------+----+\n",
            "|   D|   H|      HDD| Id|      Model| RAM|ScreenSize|    W|Weight|Year|\n",
            "+----+----+---------+---+-----------+----+----------+-----+------+----+\n",
            "|9.48|0.61|512GB SSD|  1|MacBook Pro|16GB|       15\"|13.75|  4.02|2015|\n",
            "+----+----+---------+---+-----------+----+----------+-----+------+----+\n",
            "\n"
          ]
        }
      ]
    },
    {
      "cell_type": "markdown",
      "metadata": {
        "id": "43oLte9LuGzA"
      },
      "source": [
        "### Create TempView:"
      ]
    },
    {
      "cell_type": "code",
      "metadata": {
        "id": "nVFYFcjtdIGW"
      },
      "source": [
        "DF.createOrReplaceTempView(\"df_tbl\")"
      ],
      "execution_count": 24,
      "outputs": []
    },
    {
      "cell_type": "markdown",
      "metadata": {
        "id": "dCLMmjRLdjbT"
      },
      "source": [
        "### Display \"RAM\"column and count \"RAM\" column:"
      ]
    },
    {
      "cell_type": "code",
      "metadata": {
        "id": "BxykutRjuF0X",
        "colab": {
          "base_uri": "https://localhost:8080/"
        },
        "outputId": "e6e48b0f-cfa3-41f3-d0cb-848867ee7119"
      },
      "source": [
        "#spark.sql('SELECT RAM FROM df_tbl').show()\n",
        "DF.groupby('RAM').agg(count('RAM').alias('RAM_Numbers')).show()"
      ],
      "execution_count": 38,
      "outputs": [
        {
          "output_type": "stream",
          "name": "stdout",
          "text": [
            "+----+-----------+\n",
            "| RAM|RAM_Numbers|\n",
            "+----+-----------+\n",
            "|64GB|          1|\n",
            "|16GB|          1|\n",
            "| 8GB|          2|\n",
            "+----+-----------+\n",
            "\n"
          ]
        }
      ]
    },
    {
      "cell_type": "markdown",
      "metadata": {
        "id": "b5nlwq4t9gvK"
      },
      "source": [
        "### Get all columns when \"Year\" column equal \"2015\"  "
      ]
    },
    {
      "cell_type": "code",
      "metadata": {
        "id": "WXxjFxN19hJl",
        "colab": {
          "base_uri": "https://localhost:8080/"
        },
        "outputId": "1e318253-bab4-474c-e718-267e4670989b"
      },
      "source": [
        "spark.sql('SELECT * FROM df_tbl where Year = \"2015\"').show()"
      ],
      "execution_count": 39,
      "outputs": [
        {
          "output_type": "stream",
          "name": "stdout",
          "text": [
            "+----+----+---------+---+-----------+----+----------+-----+------+----+\n",
            "|   D|   H|      HDD| Id|      Model| RAM|ScreenSize|    W|Weight|Year|\n",
            "+----+----+---------+---+-----------+----+----------+-----+------+----+\n",
            "|9.48|0.61|512GB SSD|  1|MacBook Pro|16GB|       15\"|13.75|  4.02|2015|\n",
            "+----+----+---------+---+-----------+----+----------+-----+------+----+\n",
            "\n"
          ]
        }
      ]
    },
    {
      "cell_type": "markdown",
      "metadata": {
        "id": "JHjK2Kqfuv24"
      },
      "source": [
        "### Get all when \"Model\" start with \"M\":"
      ]
    },
    {
      "cell_type": "code",
      "metadata": {
        "id": "m30EkY_iu1Gs",
        "colab": {
          "base_uri": "https://localhost:8080/"
        },
        "outputId": "4b58708b-d44c-45a3-8168-299dde8d2953"
      },
      "source": [
        "spark.sql('SELECT * FROM df_tbl where Model LIKE \"M%\"').show()"
      ],
      "execution_count": 41,
      "outputs": [
        {
          "output_type": "stream",
          "name": "stdout",
          "text": [
            "+----+----+---------+---+-----------+----+----------+-----+------+----+\n",
            "|   D|   H|      HDD| Id|      Model| RAM|ScreenSize|    W|Weight|Year|\n",
            "+----+----+---------+---+-----------+----+----------+-----+------+----+\n",
            "|9.48|0.61|512GB SSD|  1|MacBook Pro|16GB|       15\"|13.75|  4.02|2015|\n",
            "|7.74|0.52|256GB SSD|  2|    MacBook| 8GB|       12\"|11.04|  2.03|2016|\n",
            "|8.94|0.68|128GB SSD|  3|MacBook Air| 8GB|     13.3\"| 12.8|  2.96|2016|\n",
            "+----+----+---------+---+-----------+----+----------+-----+------+----+\n",
            "\n"
          ]
        }
      ]
    },
    {
      "cell_type": "markdown",
      "metadata": {
        "id": "Igw9iqJQ7TdH"
      },
      "source": [
        "### Get all data when \"Model\" column equal \"MacBook Pro\""
      ]
    },
    {
      "cell_type": "code",
      "metadata": {
        "id": "SRCGSB_W9cPc",
        "colab": {
          "base_uri": "https://localhost:8080/"
        },
        "outputId": "ae317ab3-edee-4230-c16e-e6f21d03df1d"
      },
      "source": [
        "spark.sql('SELECT * FROM df_tbl where Model= \"MacBook Pro\"').show()"
      ],
      "execution_count": 40,
      "outputs": [
        {
          "output_type": "stream",
          "name": "stdout",
          "text": [
            "+----+----+---------+---+-----------+----+----------+-----+------+----+\n",
            "|   D|   H|      HDD| Id|      Model| RAM|ScreenSize|    W|Weight|Year|\n",
            "+----+----+---------+---+-----------+----+----------+-----+------+----+\n",
            "|9.48|0.61|512GB SSD|  1|MacBook Pro|16GB|       15\"|13.75|  4.02|2015|\n",
            "+----+----+---------+---+-----------+----+----------+-----+------+----+\n",
            "\n"
          ]
        }
      ]
    },
    {
      "cell_type": "markdown",
      "metadata": {
        "id": "OZIlmJidw1Ep"
      },
      "source": [
        "### Get all data with Multiple Conditions when \"RAM\" column equal \"8GB\" and \"Model\" column is \"Macbook\"."
      ]
    },
    {
      "cell_type": "code",
      "metadata": {
        "id": "-5T7roxgnBBV",
        "colab": {
          "base_uri": "https://localhost:8080/"
        },
        "outputId": "55127b40-4f9b-4235-9d5b-79ae6d3446f1"
      },
      "source": [
        "spark.sql('SELECT * FROM df_tbl where RAM = \"8GB\" And Model Like \"MacBook%\"').show()"
      ],
      "execution_count": 44,
      "outputs": [
        {
          "output_type": "stream",
          "name": "stdout",
          "text": [
            "+----+----+---------+---+-----------+---+----------+-----+------+----+\n",
            "|   D|   H|      HDD| Id|      Model|RAM|ScreenSize|    W|Weight|Year|\n",
            "+----+----+---------+---+-----------+---+----------+-----+------+----+\n",
            "|7.74|0.52|256GB SSD|  2|    MacBook|8GB|       12\"|11.04|  2.03|2016|\n",
            "|8.94|0.68|128GB SSD|  3|MacBook Air|8GB|     13.3\"| 12.8|  2.96|2016|\n",
            "+----+----+---------+---+-----------+---+----------+-----+------+----+\n",
            "\n"
          ]
        }
      ]
    },
    {
      "cell_type": "markdown",
      "metadata": {
        "id": "qk8YPAWQ8HxI"
      },
      "source": [
        "### Get all data with Multiple Conditions when \"D\" greater than or equal \"8\" and \"Model\" column is \"iMac\"."
      ]
    },
    {
      "cell_type": "code",
      "metadata": {
        "id": "XDHJSpQK9MuS",
        "colab": {
          "base_uri": "https://localhost:8080/"
        },
        "outputId": "3b9b0d94-ce8c-4a5d-ab85-48c99d3882e2"
      },
      "source": [
        "spark.sql('SELECT * FROM df_tbl where D >= \"8\" And Model = \"iMac\"').show()"
      ],
      "execution_count": 45,
      "outputs": [
        {
          "output_type": "stream",
          "name": "stdout",
          "text": [
            "+---+----+-------+---+-----+----+----------+----+------+----+\n",
            "|  D|   H|    HDD| Id|Model| RAM|ScreenSize|   W|Weight|Year|\n",
            "+---+----+-------+---+-----+----+----------+----+------+----+\n",
            "|8.0|20.3|1TB SSD|  4| iMac|64GB|       27\"|25.6|  20.8|2017|\n",
            "+---+----+-------+---+-----+----+----------+----+------+----+\n",
            "\n"
          ]
        }
      ]
    },
    {
      "cell_type": "markdown",
      "metadata": {
        "id": "5d6364f6"
      },
      "source": [
        "## Task 2\n"
      ]
    },
    {
      "cell_type": "markdown",
      "metadata": {
        "id": "rlWhDvTPfZgu"
      },
      "source": [
        "### Read \"test1\" dataset:"
      ]
    },
    {
      "cell_type": "code",
      "metadata": {
        "id": "7964d064",
        "colab": {
          "base_uri": "https://localhost:8080/"
        },
        "outputId": "bf15cc3d-3f0f-4e80-d7f7-8a70792a2b15"
      },
      "source": [
        "DF1 = spark.read.csv('test1.csv' , header = True)\n",
        "DF1.show()"
      ],
      "execution_count": 47,
      "outputs": [
        {
          "output_type": "stream",
          "name": "stdout",
          "text": [
            "+---------+---+----------+------+\n",
            "|     Name|age|Experience|Salary|\n",
            "+---------+---+----------+------+\n",
            "|    Krish| 31|        10| 30000|\n",
            "|Sudhanshu| 30|         8| 25000|\n",
            "|    Sunny| 29|         4| 20000|\n",
            "|     Paul| 24|         3| 20000|\n",
            "|   Harsha| 21|         1| 15000|\n",
            "|  Shubham| 23|         2| 18000|\n",
            "+---------+---+----------+------+\n",
            "\n"
          ]
        }
      ]
    },
    {
      "cell_type": "markdown",
      "metadata": {
        "id": "EJKjDOKHfnCt"
      },
      "source": [
        "### Display Salary of the people less than or equal to 20000"
      ]
    },
    {
      "cell_type": "code",
      "metadata": {
        "id": "c21edffc",
        "colab": {
          "base_uri": "https://localhost:8080/"
        },
        "outputId": "09b0e572-2ff0-4e56-820c-831b8c802ae6"
      },
      "source": [
        "DF1.createOrReplaceTempView(\"df1_tbl\")\n",
        "spark.sql('SELECT * FROM df1_tbl where Salary <= \"20000\" ').show()"
      ],
      "execution_count": 52,
      "outputs": [
        {
          "output_type": "stream",
          "name": "stdout",
          "text": [
            "+-------+---+----------+------+\n",
            "|   Name|age|Experience|Salary|\n",
            "+-------+---+----------+------+\n",
            "|  Sunny| 29|         4| 20000|\n",
            "|   Paul| 24|         3| 20000|\n",
            "| Harsha| 21|         1| 15000|\n",
            "|Shubham| 23|         2| 18000|\n",
            "+-------+---+----------+------+\n",
            "\n"
          ]
        }
      ]
    },
    {
      "cell_type": "markdown",
      "metadata": {
        "id": "OvFWNFJjf0Pq"
      },
      "source": [
        "### Display Salary of the people less than or equal to 20000 and greater than or equal 15000"
      ]
    },
    {
      "cell_type": "code",
      "metadata": {
        "id": "26f76ee1",
        "colab": {
          "base_uri": "https://localhost:8080/"
        },
        "outputId": "cbddf1a9-2611-4518-d107-ba39332c5d61"
      },
      "source": [
        "spark.sql('SELECT * FROM df1_tbl where Salary <= \"20000\" And Salary >= \"15000\" ').show()"
      ],
      "execution_count": 53,
      "outputs": [
        {
          "output_type": "stream",
          "name": "stdout",
          "text": [
            "+-------+---+----------+------+\n",
            "|   Name|age|Experience|Salary|\n",
            "+-------+---+----------+------+\n",
            "|  Sunny| 29|         4| 20000|\n",
            "|   Paul| 24|         3| 20000|\n",
            "| Harsha| 21|         1| 15000|\n",
            "|Shubham| 23|         2| 18000|\n",
            "+-------+---+----------+------+\n",
            "\n"
          ]
        }
      ]
    },
    {
      "cell_type": "markdown",
      "metadata": {
        "id": "9VAcIXkTgN9D"
      },
      "source": [
        "## Task 3 "
      ]
    },
    {
      "cell_type": "markdown",
      "metadata": {
        "id": "uOeqRO2KgW34"
      },
      "source": [
        "### Read \"test3\" dataset:"
      ]
    },
    {
      "cell_type": "code",
      "metadata": {
        "id": "4d3bd081"
      },
      "source": [
        "DF2=spark.read.csv('test3.csv' , header=True)\n",
        "DF2.createOrReplaceTempView(\"df2_tbl\")"
      ],
      "execution_count": 79,
      "outputs": []
    },
    {
      "cell_type": "markdown",
      "metadata": {
        "id": "ejyUT1rngdeR"
      },
      "source": [
        "### Display dataset"
      ]
    },
    {
      "cell_type": "code",
      "metadata": {
        "id": "7ed791ed",
        "colab": {
          "base_uri": "https://localhost:8080/"
        },
        "outputId": "ceaf9aff-8c2c-4446-9672-9741a2424aac"
      },
      "source": [
        "DF2.show()"
      ],
      "execution_count": 80,
      "outputs": [
        {
          "output_type": "stream",
          "name": "stdout",
          "text": [
            "+---------+------------+------+\n",
            "|     Name| Departments|salary|\n",
            "+---------+------------+------+\n",
            "|    Krish|Data Science| 10000|\n",
            "|    Krish|         IOT|  5000|\n",
            "|   Mahesh|    Big Data|  4000|\n",
            "|    Krish|    Big Data|  4000|\n",
            "|   Mahesh|Data Science|  3000|\n",
            "|Sudhanshu|Data Science| 20000|\n",
            "|Sudhanshu|         IOT| 10000|\n",
            "|Sudhanshu|    Big Data|  5000|\n",
            "|    Sunny|Data Science| 10000|\n",
            "|    Sunny|    Big Data|  2000|\n",
            "+---------+------------+------+\n",
            "\n"
          ]
        }
      ]
    },
    {
      "cell_type": "markdown",
      "metadata": {
        "id": "Xp42YtorghXJ"
      },
      "source": [
        "### Display schema"
      ]
    },
    {
      "cell_type": "code",
      "metadata": {
        "id": "d57d24ca",
        "colab": {
          "base_uri": "https://localhost:8080/"
        },
        "outputId": "621e5210-289b-4a18-f647-28e085fa2302"
      },
      "source": [
        "DF2.printSchema()"
      ],
      "execution_count": 81,
      "outputs": [
        {
          "output_type": "stream",
          "name": "stdout",
          "text": [
            "root\n",
            " |-- Name: string (nullable = true)\n",
            " |-- Departments: string (nullable = true)\n",
            " |-- salary: string (nullable = true)\n",
            "\n"
          ]
        }
      ]
    },
    {
      "cell_type": "markdown",
      "metadata": {
        "id": "PHxWeGCCgnww"
      },
      "source": [
        "### Group by \"Name\" column and using sum function on \"Name\" column"
      ]
    },
    {
      "cell_type": "code",
      "metadata": {
        "id": "f15f8197",
        "colab": {
          "base_uri": "https://localhost:8080/"
        },
        "outputId": "3d578411-74ff-4df3-8cc5-9f9108bfcb53"
      },
      "source": [
        "count_name = DF2.groupBy('Name').agg(count('Name'))\n",
        "#count_Df.show()\n",
        "count_name.groupBy('Name').agg(sum('count(Name)')).show()"
      ],
      "execution_count": 120,
      "outputs": [
        {
          "output_type": "stream",
          "name": "stdout",
          "text": [
            "+---------+----------------+\n",
            "|     Name|sum(count(Name))|\n",
            "+---------+----------------+\n",
            "|Sudhanshu|               3|\n",
            "|    Sunny|               2|\n",
            "|    Krish|               3|\n",
            "|   Mahesh|               2|\n",
            "+---------+----------------+\n",
            "\n"
          ]
        }
      ]
    },
    {
      "cell_type": "markdown",
      "metadata": {
        "id": "gWgkaU3bhUOL"
      },
      "source": [
        "### Group by \"Name\" column and using avg function on \"Name\" column"
      ]
    },
    {
      "cell_type": "code",
      "metadata": {
        "id": "fc122ace",
        "colab": {
          "base_uri": "https://localhost:8080/"
        },
        "outputId": "a37efee6-f6d6-4fdb-f54e-554f41a01514"
      },
      "source": [
        "count_name.groupBy('Name').agg(avg('count(Name)')).show()"
      ],
      "execution_count": 119,
      "outputs": [
        {
          "output_type": "stream",
          "name": "stdout",
          "text": [
            "+---------+----------------+\n",
            "|     Name|avg(count(Name))|\n",
            "+---------+----------------+\n",
            "|Sudhanshu|             3.0|\n",
            "|    Sunny|             2.0|\n",
            "|    Krish|             3.0|\n",
            "|   Mahesh|             2.0|\n",
            "+---------+----------------+\n",
            "\n"
          ]
        }
      ]
    },
    {
      "cell_type": "markdown",
      "metadata": {
        "id": "ARg_-WPKhfL5"
      },
      "source": [
        "### Group by \"Departments\" column and using sum function on \"Departments\" column"
      ]
    },
    {
      "cell_type": "code",
      "metadata": {
        "id": "151d2264",
        "colab": {
          "base_uri": "https://localhost:8080/"
        },
        "outputId": "e55599ca-8f73-462c-a432-115dc531a2fb"
      },
      "source": [
        "count_d = DF2.groupBy('Departments').agg(count('Departments'))\n",
        "#count_Df.show()\n",
        "count_d.groupBy('Departments').agg(sum('count(Departments)')).show()"
      ],
      "execution_count": 121,
      "outputs": [
        {
          "output_type": "stream",
          "name": "stdout",
          "text": [
            "+------------+-----------------------+\n",
            "| Departments|sum(count(Departments))|\n",
            "+------------+-----------------------+\n",
            "|         IOT|                      2|\n",
            "|    Big Data|                      4|\n",
            "|Data Science|                      4|\n",
            "+------------+-----------------------+\n",
            "\n"
          ]
        }
      ]
    },
    {
      "cell_type": "markdown",
      "metadata": {
        "id": "S7rdLSEXhn4W"
      },
      "source": [
        "### Group by \"Departments\" column and using mean function on \"Departments\" column:"
      ]
    },
    {
      "cell_type": "code",
      "metadata": {
        "id": "66fe5552",
        "colab": {
          "base_uri": "https://localhost:8080/"
        },
        "outputId": "66045e88-06ed-4b05-8a52-77bb0417f468"
      },
      "source": [
        "count_d.groupBy('Departments').agg(mean('count(Departments)')).show()"
      ],
      "execution_count": 122,
      "outputs": [
        {
          "output_type": "stream",
          "name": "stdout",
          "text": [
            "+------------+-----------------------+\n",
            "| Departments|avg(count(Departments))|\n",
            "+------------+-----------------------+\n",
            "|         IOT|                    2.0|\n",
            "|    Big Data|                    4.0|\n",
            "|Data Science|                    4.0|\n",
            "+------------+-----------------------+\n",
            "\n"
          ]
        }
      ]
    },
    {
      "cell_type": "markdown",
      "metadata": {
        "id": "bndivgGjhsbq"
      },
      "source": [
        "Group by \"Departments\" column and using count function on \"Departments\" column:"
      ]
    },
    {
      "cell_type": "code",
      "metadata": {
        "id": "bc7bf192",
        "colab": {
          "base_uri": "https://localhost:8080/"
        },
        "outputId": "568b1dd4-8d8e-4dbb-efcf-9d9aeec4afbe"
      },
      "source": [
        "DF2.groupBy('Departments').agg(count('Departments')).show()"
      ],
      "execution_count": 123,
      "outputs": [
        {
          "output_type": "stream",
          "name": "stdout",
          "text": [
            "+------------+------------------+\n",
            "| Departments|count(Departments)|\n",
            "+------------+------------------+\n",
            "|         IOT|                 2|\n",
            "|    Big Data|                 4|\n",
            "|Data Science|                 4|\n",
            "+------------+------------------+\n",
            "\n"
          ]
        }
      ]
    },
    {
      "cell_type": "markdown",
      "metadata": {
        "id": "dfPs99wnhwGu"
      },
      "source": [
        "### Apply agg to using sum function get the total of salaries"
      ]
    },
    {
      "cell_type": "code",
      "metadata": {
        "id": "37b26cbe",
        "colab": {
          "base_uri": "https://localhost:8080/"
        },
        "outputId": "f93f1db7-c7e9-4c20-a666-02dfb96253e9"
      },
      "source": [
        "new_df2 = DF2.withColumn(\"Salary\", \n",
        "                                  DF2[\"Salary\"]\n",
        "                                  .cast('float'))\n",
        "new_df2.printSchema()\n",
        "new_df2.groupBy('Name').agg(sum('Salary')).show()"
      ],
      "execution_count": 127,
      "outputs": [
        {
          "output_type": "stream",
          "name": "stdout",
          "text": [
            "root\n",
            " |-- Name: string (nullable = true)\n",
            " |-- Departments: string (nullable = true)\n",
            " |-- Salary: float (nullable = true)\n",
            "\n",
            "+---------+-----------+\n",
            "|     Name|sum(Salary)|\n",
            "+---------+-----------+\n",
            "|Sudhanshu|    35000.0|\n",
            "|    Sunny|    12000.0|\n",
            "|    Krish|    19000.0|\n",
            "|   Mahesh|     7000.0|\n",
            "+---------+-----------+\n",
            "\n"
          ]
        }
      ]
    },
    {
      "cell_type": "markdown",
      "metadata": {
        "id": "MYD0wGPRi1FO"
      },
      "source": [
        "## Task 4"
      ]
    },
    {
      "cell_type": "markdown",
      "metadata": {
        "id": "lJLc1PY1i-Np"
      },
      "source": [
        "You've been flown to their headquarters in Ulsan, South Korea, to assist them in accurately estimating the number of crew members a ship will need.\n"
      ]
    },
    {
      "cell_type": "markdown",
      "metadata": {
        "id": "8PEoknoejL4r"
      },
      "source": [
        "They're currently building new ships for certain customers, and they'd like you to create a model and utilize it to estimate how many crew members the ships will require.\n"
      ]
    },
    {
      "cell_type": "markdown",
      "metadata": {
        "id": "70slYH-tjR81"
      },
      "source": [
        "Metadata:\n",
        "1. Measurements of ship size \n",
        "2. capacity \n",
        "3. crew \n",
        "4. age for 158 cruise ships."
      ]
    },
    {
      "cell_type": "markdown",
      "metadata": {
        "id": "5ZzrhGnHkRCU"
      },
      "source": [
        "It is saved in a csv file for you called \"ITI_data.csv\". our task is to develop a regression model that will assist in predicting the number of crew members required for future ships. The client also indicated that they have found that particular cruise lines will differ in acceptable crew counts, thus this is most likely an important factor to consider when conducting your investigation."
      ]
    },
    {
      "cell_type": "code",
      "metadata": {
        "id": "A9CZzWWqZnOC",
        "colab": {
          "base_uri": "https://localhost:8080/"
        },
        "outputId": "73f8d266-9941-402b-a4ff-1845002f9e3a"
      },
      "source": [
        "DF3 = spark.read.csv('ITI_data.csv' , header=True)\n",
        "DF3.show()"
      ],
      "execution_count": 130,
      "outputs": [
        {
          "output_type": "stream",
          "name": "stdout",
          "text": [
            "+-----------+-----------+---+------------------+----------+------+------+-----------------+----+\n",
            "|  Ship_name|Cruise_line|Age|           Tonnage|passengers|length|cabins|passenger_density|crew|\n",
            "+-----------+-----------+---+------------------+----------+------+------+-----------------+----+\n",
            "|    Journey|    Azamara|  6|30.276999999999997|      6.94|  5.94|  3.55|            42.64|3.55|\n",
            "|      Quest|    Azamara|  6|30.276999999999997|      6.94|  5.94|  3.55|            42.64|3.55|\n",
            "|Celebration|   Carnival| 26|            47.262|     14.86|  7.22|  7.43|             31.8| 6.7|\n",
            "|   Conquest|   Carnival| 11|             110.0|     29.74|  9.53| 14.88|            36.99|19.1|\n",
            "|    Destiny|   Carnival| 17|           101.353|     26.42|  8.92| 13.21|            38.36|10.0|\n",
            "|    Ecstasy|   Carnival| 22|            70.367|     20.52|  8.55|  10.2|            34.29| 9.2|\n",
            "|    Elation|   Carnival| 15|            70.367|     20.52|  8.55|  10.2|            34.29| 9.2|\n",
            "|    Fantasy|   Carnival| 23|            70.367|     20.56|  8.55| 10.22|            34.23| 9.2|\n",
            "|Fascination|   Carnival| 19|            70.367|     20.52|  8.55|  10.2|            34.29| 9.2|\n",
            "|    Freedom|   Carnival|  6|110.23899999999999|      37.0|  9.51| 14.87|            29.79|11.5|\n",
            "|      Glory|   Carnival| 10|             110.0|     29.74|  9.51| 14.87|            36.99|11.6|\n",
            "|    Holiday|   Carnival| 28|            46.052|     14.52|  7.27|  7.26|            31.72| 6.6|\n",
            "|Imagination|   Carnival| 18|            70.367|     20.52|  8.55|  10.2|            34.29| 9.2|\n",
            "|Inspiration|   Carnival| 17|            70.367|     20.52|  8.55|  10.2|            34.29| 9.2|\n",
            "|     Legend|   Carnival| 11|              86.0|     21.24|  9.63| 10.62|            40.49| 9.3|\n",
            "|   Liberty*|   Carnival|  8|             110.0|     29.74|  9.51| 14.87|            36.99|11.6|\n",
            "|    Miracle|   Carnival|  9|              88.5|     21.24|  9.63| 10.62|            41.67|10.3|\n",
            "|   Paradise|   Carnival| 15|            70.367|     20.52|  8.55|  10.2|            34.29| 9.2|\n",
            "|      Pride|   Carnival| 12|              88.5|     21.24|  9.63| 11.62|            41.67| 9.3|\n",
            "|  Sensation|   Carnival| 20|            70.367|     20.52|  8.55|  10.2|            34.29| 9.2|\n",
            "+-----------+-----------+---+------------------+----------+------+------+-----------------+----+\n",
            "only showing top 20 rows\n",
            "\n"
          ]
        }
      ]
    },
    {
      "cell_type": "markdown",
      "metadata": {
        "id": "1QTNLhZSlf9_"
      },
      "source": [
        "### OneHotEncoder \n"
      ]
    },
    {
      "cell_type": "code",
      "metadata": {
        "id": "-ZZxxxKLZnOF",
        "colab": {
          "base_uri": "https://localhost:8080/"
        },
        "outputId": "59f723a2-7a38-43a2-c427-5da19e8c8101"
      },
      "source": [
        "#import required libraries\n",
        "from pyspark.ml.feature import StringIndexer\n",
        "from pyspark.ml.feature import OneHotEncoder\n",
        "indexer = StringIndexer(inputCol=\"Cruise_line\", outputCol=\"Cruise_line1\")\n",
        "#Fits a model to the input dataset with optional parameters.\n",
        "df1 = indexer.fit(DF3).transform(DF3)\n",
        "onehotencoder = OneHotEncoder(inputCol=\"Cruise_line1\", outputCol=\"Cruise_line1_vec\")\n",
        "df11 = onehotencoder.fit(df1).transform(df1)\n",
        "df11=df11.drop('Cruise_line','Cruise_line1')\n",
        "df11=df11.withColumn(\"Cruise_line\", df11 ['Cruise_line1_vec'])\n",
        "df11=df11.drop('Cruise_line1_vec')\n",
        "\n",
        "\n",
        "df11.show()"
      ],
      "execution_count": 221,
      "outputs": [
        {
          "output_type": "stream",
          "name": "stdout",
          "text": [
            "+-----------+---+------------------+----------+------+------+-----------------+----+---------------+\n",
            "|  Ship_name|Age|           Tonnage|passengers|length|cabins|passenger_density|crew|    Cruise_line|\n",
            "+-----------+---+------------------+----------+------+------+-----------------+----+---------------+\n",
            "|    Journey|  6|30.276999999999997|      6.94|  5.94|  3.55|            42.64|3.55|(19,[16],[1.0])|\n",
            "|      Quest|  6|30.276999999999997|      6.94|  5.94|  3.55|            42.64|3.55|(19,[16],[1.0])|\n",
            "|Celebration| 26|            47.262|     14.86|  7.22|  7.43|             31.8| 6.7| (19,[1],[1.0])|\n",
            "|   Conquest| 11|             110.0|     29.74|  9.53| 14.88|            36.99|19.1| (19,[1],[1.0])|\n",
            "|    Destiny| 17|           101.353|     26.42|  8.92| 13.21|            38.36|10.0| (19,[1],[1.0])|\n",
            "|    Ecstasy| 22|            70.367|     20.52|  8.55|  10.2|            34.29| 9.2| (19,[1],[1.0])|\n",
            "|    Elation| 15|            70.367|     20.52|  8.55|  10.2|            34.29| 9.2| (19,[1],[1.0])|\n",
            "|    Fantasy| 23|            70.367|     20.56|  8.55| 10.22|            34.23| 9.2| (19,[1],[1.0])|\n",
            "|Fascination| 19|            70.367|     20.52|  8.55|  10.2|            34.29| 9.2| (19,[1],[1.0])|\n",
            "|    Freedom|  6|110.23899999999999|      37.0|  9.51| 14.87|            29.79|11.5| (19,[1],[1.0])|\n",
            "|      Glory| 10|             110.0|     29.74|  9.51| 14.87|            36.99|11.6| (19,[1],[1.0])|\n",
            "|    Holiday| 28|            46.052|     14.52|  7.27|  7.26|            31.72| 6.6| (19,[1],[1.0])|\n",
            "|Imagination| 18|            70.367|     20.52|  8.55|  10.2|            34.29| 9.2| (19,[1],[1.0])|\n",
            "|Inspiration| 17|            70.367|     20.52|  8.55|  10.2|            34.29| 9.2| (19,[1],[1.0])|\n",
            "|     Legend| 11|              86.0|     21.24|  9.63| 10.62|            40.49| 9.3| (19,[1],[1.0])|\n",
            "|   Liberty*|  8|             110.0|     29.74|  9.51| 14.87|            36.99|11.6| (19,[1],[1.0])|\n",
            "|    Miracle|  9|              88.5|     21.24|  9.63| 10.62|            41.67|10.3| (19,[1],[1.0])|\n",
            "|   Paradise| 15|            70.367|     20.52|  8.55|  10.2|            34.29| 9.2| (19,[1],[1.0])|\n",
            "|      Pride| 12|              88.5|     21.24|  9.63| 11.62|            41.67| 9.3| (19,[1],[1.0])|\n",
            "|  Sensation| 20|            70.367|     20.52|  8.55|  10.2|            34.29| 9.2| (19,[1],[1.0])|\n",
            "+-----------+---+------------------+----------+------+------+-----------------+----+---------------+\n",
            "only showing top 20 rows\n",
            "\n"
          ]
        }
      ]
    },
    {
      "cell_type": "markdown",
      "metadata": {
        "id": "RNCxWem0l662"
      },
      "source": [
        "###Use VectorAssembler to merge all columns into one column:"
      ]
    },
    {
      "cell_type": "code",
      "metadata": {
        "collapsed": true,
        "id": "pE4ohNjVZnOG",
        "colab": {
          "base_uri": "https://localhost:8080/"
        },
        "outputId": "48ce816c-3c45-48c8-f251-ff8b5ef263ae"
      },
      "source": [
        "from pyspark.ml.feature import VectorAssembler\n",
        "\n",
        "#inputCols1=['Cruise_line1_vec','passenger_density1','cabins1','Age1','Tonnage1', 'passengers1', 'length1','crew1']\n",
        "inputCols=['Cruise_line','passenger_density','cabins','Age','Tonnage', 'passengers', 'length','crew']\n",
        "new_df = df11.withColumn(\"passenger_density\", df11 ['passenger_density'] .cast('int'))\\\n",
        "        .withColumn('cabins', df11['cabins'].cast('int')) \\\n",
        "         .withColumn('Age', df11['Age'].cast('int'))\\\n",
        "         .withColumn('Tonnage', df11['Tonnage'].cast('int'))\\\n",
        "          .withColumn('passengers', df11['passengers'].cast('int'))\\\n",
        "          .withColumn('length', df11['length'].cast('int'))\\\n",
        "           .withColumn('crew', df11['crew'].cast('int'))\n",
        "trainDF, testDF = new_df.randomSplit([.8,.2],seed=42)\n",
        "#print(f\"There are {trainDF.count()} rows in the training set, and {testDF.count()} in the test set\")\n",
        "\n",
        "df_va = VectorAssembler(inputCols=inputCols,outputCol='features')\n",
        "df_vector = df_va.transform(trainDF)\n",
        "df_vector.show()"
      ],
      "execution_count": 222,
      "outputs": [
        {
          "output_type": "stream",
          "name": "stdout",
          "text": [
            "+-------------+---+-------+----------+------+------+-----------------+----+---------------+--------------------+\n",
            "|    Ship_name|Age|Tonnage|passengers|length|cabins|passenger_density|crew|    Cruise_line|            features|\n",
            "+-------------+---+-------+----------+------+------+-----------------+----+---------------+--------------------+\n",
            "|    Adventure| 12|    138|        31|    10|    15|               44|  11| (19,[0],[1.0])|(26,[0,19,20,21,2...|\n",
            "|      Allegra| 21|     28|         8|     6|     4|               35|   4| (19,[5],[1.0])|(26,[5,19,20,21,2...|\n",
            "|      Arcadia|  9|     85|        19|     9|     9|               43|   8| (19,[8],[1.0])|(26,[8,19,20,21,2...|\n",
            "|        Aries| 22|      3|         0|     2|     0|               50|   0| (19,[9],[1.0])|(26,[9,19,21,22,2...|\n",
            "|      Armonia| 12|     58|        15|     8|     7|               37|   7| (19,[7],[1.0])|(26,[7,19,20,21,2...|\n",
            "|    Atlantica| 13|     85|        21|     9|    10|               40|   9| (19,[5],[1.0])|(26,[5,19,20,21,2...|\n",
            "|   Brilliance| 11|     90|        25|     9|    10|               36|   8| (19,[0],[1.0])|(26,[0,19,20,21,2...|\n",
            "|    Caribbean|  9|    116|        26|     9|    13|               44|  11| (19,[2],[1.0])|(26,[2,19,20,21,2...|\n",
            "|  Celebration| 26|     47|        14|     7|     7|               31|   6| (19,[1],[1.0])|(26,[1,19,20,21,2...|\n",
            "|      Century| 18|     70|        17|     8|     8|               39|   8| (19,[6],[1.0])|(26,[6,19,20,21,2...|\n",
            "|        Cloud| 19|     16|         2|     5|     1|               56|   2|(19,[11],[1.0])|(26,[11,19,20,21,...|\n",
            "|     Conquest| 11|    110|        29|     9|    14|               36|  19| (19,[1],[1.0])|(26,[1,19,20,21,2...|\n",
            "|Constellation| 11|     91|        20|     9|     9|               44|   9| (19,[6],[1.0])|(26,[6,19,20,21,2...|\n",
            "|        Coral| 11|     91|        19|     9|     9|               46|   9| (19,[2],[1.0])|(26,[2,19,20,21,2...|\n",
            "|        Crown|  7|    116|        31|     9|    15|               37|  12| (19,[2],[1.0])|(26,[2,19,20,21,2...|\n",
            "|         Dawn| 11|     90|        22|     9|    11|               40|  11| (19,[4],[1.0])|(26,[4,19,20,21,2...|\n",
            "|         Dawn| 16|     77|        19|     8|    10|               39|   9| (19,[2],[1.0])|(26,[2,19,20,21,2...|\n",
            "|      Destiny| 17|    101|        26|     8|    13|               38|  10| (19,[1],[1.0])|(26,[1,19,20,21,2...|\n",
            "|        Dream| 21|     50|        17|     7|     8|               29|   6| (19,[4],[1.0])|(26,[4,19,20,21,2...|\n",
            "|      Ecstasy| 22|     70|        20|     8|    10|               34|   9| (19,[1],[1.0])|(26,[1,19,20,21,2...|\n",
            "+-------------+---+-------+----------+------+------+-----------------+----+---------------+--------------------+\n",
            "only showing top 20 rows\n",
            "\n"
          ]
        }
      ]
    },
    {
      "cell_type": "markdown",
      "metadata": {
        "id": "Rbf56f6AmUUl"
      },
      "source": [
        "### Create a Linear Regression Model "
      ]
    },
    {
      "cell_type": "code",
      "metadata": {
        "colab": {
          "base_uri": "https://localhost:8080/"
        },
        "id": "_0bxJLszjy2v",
        "outputId": "0d855c3e-f868-4d2c-9678-c7dde5bb7426"
      },
      "source": [
        "from pyspark.ml.regression import LinearRegression\n",
        "#label=df_vector['crew1']\n",
        "df_vector.show()\n",
        "\n",
        "lr = LinearRegression(featuresCol='features',labelCol='crew' )\n",
        "lrModel = lr.fit(df_vector)"
      ],
      "execution_count": 223,
      "outputs": [
        {
          "output_type": "stream",
          "name": "stdout",
          "text": [
            "+-------------+---+-------+----------+------+------+-----------------+----+---------------+--------------------+\n",
            "|    Ship_name|Age|Tonnage|passengers|length|cabins|passenger_density|crew|    Cruise_line|            features|\n",
            "+-------------+---+-------+----------+------+------+-----------------+----+---------------+--------------------+\n",
            "|    Adventure| 12|    138|        31|    10|    15|               44|  11| (19,[0],[1.0])|(26,[0,19,20,21,2...|\n",
            "|      Allegra| 21|     28|         8|     6|     4|               35|   4| (19,[5],[1.0])|(26,[5,19,20,21,2...|\n",
            "|      Arcadia|  9|     85|        19|     9|     9|               43|   8| (19,[8],[1.0])|(26,[8,19,20,21,2...|\n",
            "|        Aries| 22|      3|         0|     2|     0|               50|   0| (19,[9],[1.0])|(26,[9,19,21,22,2...|\n",
            "|      Armonia| 12|     58|        15|     8|     7|               37|   7| (19,[7],[1.0])|(26,[7,19,20,21,2...|\n",
            "|    Atlantica| 13|     85|        21|     9|    10|               40|   9| (19,[5],[1.0])|(26,[5,19,20,21,2...|\n",
            "|   Brilliance| 11|     90|        25|     9|    10|               36|   8| (19,[0],[1.0])|(26,[0,19,20,21,2...|\n",
            "|    Caribbean|  9|    116|        26|     9|    13|               44|  11| (19,[2],[1.0])|(26,[2,19,20,21,2...|\n",
            "|  Celebration| 26|     47|        14|     7|     7|               31|   6| (19,[1],[1.0])|(26,[1,19,20,21,2...|\n",
            "|      Century| 18|     70|        17|     8|     8|               39|   8| (19,[6],[1.0])|(26,[6,19,20,21,2...|\n",
            "|        Cloud| 19|     16|         2|     5|     1|               56|   2|(19,[11],[1.0])|(26,[11,19,20,21,...|\n",
            "|     Conquest| 11|    110|        29|     9|    14|               36|  19| (19,[1],[1.0])|(26,[1,19,20,21,2...|\n",
            "|Constellation| 11|     91|        20|     9|     9|               44|   9| (19,[6],[1.0])|(26,[6,19,20,21,2...|\n",
            "|        Coral| 11|     91|        19|     9|     9|               46|   9| (19,[2],[1.0])|(26,[2,19,20,21,2...|\n",
            "|        Crown|  7|    116|        31|     9|    15|               37|  12| (19,[2],[1.0])|(26,[2,19,20,21,2...|\n",
            "|         Dawn| 11|     90|        22|     9|    11|               40|  11| (19,[4],[1.0])|(26,[4,19,20,21,2...|\n",
            "|         Dawn| 16|     77|        19|     8|    10|               39|   9| (19,[2],[1.0])|(26,[2,19,20,21,2...|\n",
            "|      Destiny| 17|    101|        26|     8|    13|               38|  10| (19,[1],[1.0])|(26,[1,19,20,21,2...|\n",
            "|        Dream| 21|     50|        17|     7|     8|               29|   6| (19,[4],[1.0])|(26,[4,19,20,21,2...|\n",
            "|      Ecstasy| 22|     70|        20|     8|    10|               34|   9| (19,[1],[1.0])|(26,[1,19,20,21,2...|\n",
            "+-------------+---+-------+----------+------+------+-----------------+----+---------------+--------------------+\n",
            "only showing top 20 rows\n",
            "\n"
          ]
        }
      ]
    },
    {
      "cell_type": "markdown",
      "metadata": {
        "id": "dVdxQTcSC6Cz"
      },
      "source": [
        "### Creating a Pipeline"
      ]
    },
    {
      "cell_type": "code",
      "metadata": {
        "id": "UqM9HxkNIHwE"
      },
      "source": [
        "# Building the pipeline\n",
        "from pyspark.ml import Pipeline\n",
        "pipeline = Pipeline(stages=[df_va,lr])\n",
        "pipelineModel = pipeline.fit(trainDF)\n",
        "predDF = pipelineModel.transform(testDF)"
      ],
      "execution_count": 224,
      "outputs": []
    },
    {
      "cell_type": "markdown",
      "metadata": {
        "id": "DEbfwhqeHOCc"
      },
      "source": [
        "### Model Evaluation"
      ]
    },
    {
      "cell_type": "code",
      "metadata": {
        "colab": {
          "base_uri": "https://localhost:8080/"
        },
        "id": "ktyLyibQcJNZ",
        "outputId": "ef4a6f25-b768-45e4-a1b8-04f0e4456ba1"
      },
      "source": [
        "# Using RMSE\n",
        "from pyspark.ml.evaluation import RegressionEvaluator\n",
        "# Using R^2\n",
        "r2 = RegressionEvaluator(predictionCol='prediction',\n",
        "                                         labelCol='crew',\n",
        "                                         metricName='r2').evaluate(predDF)\n",
        "print(f\"R2 is {r2}\")"
      ],
      "execution_count": 226,
      "outputs": [
        {
          "output_type": "stream",
          "name": "stdout",
          "text": [
            "R2 is 0.9999999999951458\n"
          ]
        }
      ]
    },
    {
      "cell_type": "markdown",
      "metadata": {
        "id": "SluXM6j-Gt9B"
      },
      "source": [
        "By Eng. Mostafa Nabieh \n",
        "If you have questions, please feel free to ask.\n",
        "\n",
        "My Email : nabieh.mostafa@yahoo.com\n",
        "\n",
        "My Whatsapp : +201015197566"
      ]
    }
  ]
}