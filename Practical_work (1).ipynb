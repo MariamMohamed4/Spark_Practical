{
  "nbformat": 4,
  "nbformat_minor": 0,
  "metadata": {
    "colab": {
      "name": "Practical_work.ipynb",
      "provenance": [],
      "collapsed_sections": [],
      "toc_visible": true
    },
    "kernelspec": {
      "name": "python3",
      "display_name": "Python 3"
    },
    "language_info": {
      "name": "python"
    }
  },
  "cells": [
    {
      "cell_type": "markdown",
      "metadata": {
        "id": "5MrBC530gmg5"
      },
      "source": [
        "Let's start with your project: \n",
        "\n",
        "Are you a data scientist? \n",
        "\n",
        "I think you are an awesome a data scientist.\n",
        "\n",
        "### **Problem** \n",
        "**Our goal is to create a predictive model that can answer the following question:**\n",
        "\n",
        "**What kind of people had a better chance of surviving?**"
      ]
    },
    {
      "cell_type": "markdown",
      "metadata": {
        "id": "qhBfwzBgioTD"
      },
      "source": [
        "**Data about passengers:**\n",
        "*   Name\n",
        "*   Age\n",
        "*   Gender.\n"
      ]
    },
    {
      "cell_type": "markdown",
      "metadata": {
        "id": "DIEH8iZqi-sk"
      },
      "source": [
        "## Install and Import Libraries\n",
        "Let's install PySpark:"
      ]
    },
    {
      "cell_type": "code",
      "metadata": {
        "id": "h0hPeSxWXrF_"
      },
      "source": [
        "import pyspark\n",
        "from pyspark.sql import SparkSession \n",
        "from pyspark.sql.functions import *"
      ],
      "execution_count": 1,
      "outputs": []
    },
    {
      "cell_type": "markdown",
      "metadata": {
        "id": "SDp80mG9jmfU"
      },
      "source": [
        "## Build Spark Session"
      ]
    },
    {
      "cell_type": "code",
      "metadata": {
        "id": "ttzML9fpjE5a"
      },
      "source": [
        "spark = SparkSession.builder \\\n",
        "    .master(\"local\") \\\n",
        "    .getOrCreate()"
      ],
      "execution_count": 2,
      "outputs": []
    },
    {
      "cell_type": "markdown",
      "metadata": {
        "id": "TiqECDzLj1Mg"
      },
      "source": [
        "## Data Loading\n"
      ]
    },
    {
      "cell_type": "markdown",
      "metadata": {
        "id": "vn-hxNggkTqV"
      },
      "source": [
        "You have two datasets: \n",
        "* Train  \n",
        "* Test."
      ]
    },
    {
      "cell_type": "markdown",
      "metadata": {
        "id": "x8-A8M7QmKDJ"
      },
      "source": [
        "Read two datasets: \n",
        "* Train\n",
        "* Test.\n",
        "\n"
      ]
    },
    {
      "cell_type": "code",
      "metadata": {
        "id": "Mx2qAccBk15y",
        "colab": {
          "base_uri": "https://localhost:8080/"
        },
        "outputId": "1b61c56c-9670-469b-86d5-8548023a2cd0"
      },
      "source": [
        "train_df = spark.read.csv('train (3).csv' ,header = True,inferSchema=True)\n",
        "train_df.show()"
      ],
      "execution_count": 3,
      "outputs": [
        {
          "output_type": "stream",
          "name": "stdout",
          "text": [
            "+-----------+--------+------+--------------------+------+----+-----+-----+----------------+-------+-----+--------+\n",
            "|PassengerId|Survived|Pclass|                Name|   Sex| Age|SibSp|Parch|          Ticket|   Fare|Cabin|Embarked|\n",
            "+-----------+--------+------+--------------------+------+----+-----+-----+----------------+-------+-----+--------+\n",
            "|          1|       0|     3|Braund, Mr. Owen ...|  male|22.0|    1|    0|       A/5 21171|   7.25| null|       S|\n",
            "|          2|       1|     1|Cumings, Mrs. Joh...|female|38.0|    1|    0|        PC 17599|71.2833|  C85|       C|\n",
            "|          3|       1|     3|Heikkinen, Miss. ...|female|26.0|    0|    0|STON/O2. 3101282|  7.925| null|       S|\n",
            "|          4|       1|     1|Futrelle, Mrs. Ja...|female|35.0|    1|    0|          113803|   53.1| C123|       S|\n",
            "|          5|       0|     3|Allen, Mr. Willia...|  male|35.0|    0|    0|          373450|   8.05| null|       S|\n",
            "|          6|       0|     3|    Moran, Mr. James|  male|null|    0|    0|          330877| 8.4583| null|       Q|\n",
            "|          7|       0|     1|McCarthy, Mr. Tim...|  male|54.0|    0|    0|           17463|51.8625|  E46|       S|\n",
            "|          8|       0|     3|Palsson, Master. ...|  male| 2.0|    3|    1|          349909| 21.075| null|       S|\n",
            "|          9|       1|     3|Johnson, Mrs. Osc...|female|27.0|    0|    2|          347742|11.1333| null|       S|\n",
            "|         10|       1|     2|Nasser, Mrs. Nich...|female|14.0|    1|    0|          237736|30.0708| null|       C|\n",
            "|         11|       1|     3|Sandstrom, Miss. ...|female| 4.0|    1|    1|         PP 9549|   16.7|   G6|       S|\n",
            "|         12|       1|     1|Bonnell, Miss. El...|female|58.0|    0|    0|          113783|  26.55| C103|       S|\n",
            "|         13|       0|     3|Saundercock, Mr. ...|  male|20.0|    0|    0|       A/5. 2151|   8.05| null|       S|\n",
            "|         14|       0|     3|Andersson, Mr. An...|  male|39.0|    1|    5|          347082| 31.275| null|       S|\n",
            "|         15|       0|     3|Vestrom, Miss. Hu...|female|14.0|    0|    0|          350406| 7.8542| null|       S|\n",
            "|         16|       1|     2|Hewlett, Mrs. (Ma...|female|55.0|    0|    0|          248706|   16.0| null|       S|\n",
            "|         17|       0|     3|Rice, Master. Eugene|  male| 2.0|    4|    1|          382652| 29.125| null|       Q|\n",
            "|         18|       1|     2|Williams, Mr. Cha...|  male|null|    0|    0|          244373|   13.0| null|       S|\n",
            "|         19|       0|     3|Vander Planke, Mr...|female|31.0|    1|    0|          345763|   18.0| null|       S|\n",
            "|         20|       1|     3|Masselmani, Mrs. ...|female|null|    0|    0|            2649|  7.225| null|       C|\n",
            "+-----------+--------+------+--------------------+------+----+-----+-----+----------------+-------+-----+--------+\n",
            "only showing top 20 rows\n",
            "\n"
          ]
        }
      ]
    },
    {
      "cell_type": "markdown",
      "metadata": {
        "id": "Lj2ANTnWmSCq"
      },
      "source": [
        "Let's work with train dataset:"
      ]
    },
    {
      "cell_type": "markdown",
      "metadata": {
        "id": "b5mWJR30lNs5"
      },
      "source": [
        "**Confirm if this is a dataframe or not:**"
      ]
    },
    {
      "cell_type": "code",
      "metadata": {
        "id": "tEYTePrzk9yl",
        "colab": {
          "base_uri": "https://localhost:8080/"
        },
        "outputId": "d3c1f7c8-2ec5-4392-fefb-3d0a85d103e8"
      },
      "source": [
        "type(train_df)"
      ],
      "execution_count": 4,
      "outputs": [
        {
          "output_type": "execute_result",
          "data": {
            "text/plain": [
              "pyspark.sql.dataframe.DataFrame"
            ]
          },
          "metadata": {},
          "execution_count": 4
        }
      ]
    },
    {
      "cell_type": "markdown",
      "metadata": {
        "id": "lvLJElPrlT4i"
      },
      "source": [
        "**Show 5 rows.**"
      ]
    },
    {
      "cell_type": "code",
      "metadata": {
        "id": "jYwhqvV8lnO0",
        "colab": {
          "base_uri": "https://localhost:8080/"
        },
        "outputId": "66af9e73-c5c8-4c97-80fc-8a8ccb6aab1a"
      },
      "source": [
        "train_df.head(5)"
      ],
      "execution_count": 5,
      "outputs": [
        {
          "output_type": "execute_result",
          "data": {
            "text/plain": [
              "[Row(PassengerId=1, Survived=0, Pclass=3, Name='Braund, Mr. Owen Harris', Sex='male', Age=22.0, SibSp=1, Parch=0, Ticket='A/5 21171', Fare=7.25, Cabin=None, Embarked='S'),\n",
              " Row(PassengerId=2, Survived=1, Pclass=1, Name='Cumings, Mrs. John Bradley (Florence Briggs Thayer)', Sex='female', Age=38.0, SibSp=1, Parch=0, Ticket='PC 17599', Fare=71.2833, Cabin='C85', Embarked='C'),\n",
              " Row(PassengerId=3, Survived=1, Pclass=3, Name='Heikkinen, Miss. Laina', Sex='female', Age=26.0, SibSp=0, Parch=0, Ticket='STON/O2. 3101282', Fare=7.925, Cabin=None, Embarked='S'),\n",
              " Row(PassengerId=4, Survived=1, Pclass=1, Name='Futrelle, Mrs. Jacques Heath (Lily May Peel)', Sex='female', Age=35.0, SibSp=1, Parch=0, Ticket='113803', Fare=53.1, Cabin='C123', Embarked='S'),\n",
              " Row(PassengerId=5, Survived=0, Pclass=3, Name='Allen, Mr. William Henry', Sex='male', Age=35.0, SibSp=0, Parch=0, Ticket='373450', Fare=8.05, Cabin=None, Embarked='S')]"
            ]
          },
          "metadata": {},
          "execution_count": 5
        }
      ]
    },
    {
      "cell_type": "markdown",
      "metadata": {
        "id": "6QIYVxRXlnnw"
      },
      "source": [
        "**Display schema for the dataset:**"
      ]
    },
    {
      "cell_type": "code",
      "metadata": {
        "id": "pcvERiICl1Ep",
        "colab": {
          "base_uri": "https://localhost:8080/"
        },
        "outputId": "b0edd4d2-ea31-4237-8863-707bb066c887"
      },
      "source": [
        "train_df.printSchema()"
      ],
      "execution_count": 6,
      "outputs": [
        {
          "output_type": "stream",
          "name": "stdout",
          "text": [
            "root\n",
            " |-- PassengerId: integer (nullable = true)\n",
            " |-- Survived: integer (nullable = true)\n",
            " |-- Pclass: integer (nullable = true)\n",
            " |-- Name: string (nullable = true)\n",
            " |-- Sex: string (nullable = true)\n",
            " |-- Age: double (nullable = true)\n",
            " |-- SibSp: integer (nullable = true)\n",
            " |-- Parch: integer (nullable = true)\n",
            " |-- Ticket: string (nullable = true)\n",
            " |-- Fare: double (nullable = true)\n",
            " |-- Cabin: string (nullable = true)\n",
            " |-- Embarked: string (nullable = true)\n",
            "\n"
          ]
        }
      ]
    },
    {
      "cell_type": "markdown",
      "metadata": {
        "id": "xmE3Wd80l1S6"
      },
      "source": [
        "**Statistical summary:**"
      ]
    },
    {
      "cell_type": "code",
      "metadata": {
        "id": "cNY0SItol5Mo",
        "colab": {
          "base_uri": "https://localhost:8080/"
        },
        "outputId": "c1f7c9fd-1622-472f-9ae1-e7c812ee3ac9"
      },
      "source": [
        "train_df.describe().show()"
      ],
      "execution_count": 7,
      "outputs": [
        {
          "output_type": "stream",
          "name": "stdout",
          "text": [
            "+-------+-----------------+-------------------+------------------+--------------------+------+------------------+------------------+-------------------+------------------+-----------------+-----+--------+\n",
            "|summary|      PassengerId|           Survived|            Pclass|                Name|   Sex|               Age|             SibSp|              Parch|            Ticket|             Fare|Cabin|Embarked|\n",
            "+-------+-----------------+-------------------+------------------+--------------------+------+------------------+------------------+-------------------+------------------+-----------------+-----+--------+\n",
            "|  count|              891|                891|               891|                 891|   891|               714|               891|                891|               891|              891|  204|     889|\n",
            "|   mean|            446.0| 0.3838383838383838| 2.308641975308642|                null|  null| 29.69911764705882|0.5230078563411896|0.38159371492704824|260318.54916792738| 32.2042079685746| null|    null|\n",
            "| stddev|257.3538420152301|0.48659245426485753|0.8360712409770491|                null|  null|14.526497332334035|1.1027434322934315| 0.8060572211299488|471609.26868834975|49.69342859718089| null|    null|\n",
            "|    min|                1|                  0|                 1|\"Andersson, Mr. A...|female|              0.42|                 0|                  0|            110152|              0.0|  A10|       C|\n",
            "|    max|              891|                  1|                 3|van Melkebeke, Mr...|  male|              80.0|                 8|                  6|         WE/P 5735|         512.3292|    T|       S|\n",
            "+-------+-----------------+-------------------+------------------+--------------------+------+------------------+------------------+-------------------+------------------+-----------------+-----+--------+\n",
            "\n"
          ]
        }
      ]
    },
    {
      "cell_type": "markdown",
      "metadata": {
        "id": "HiFaIEQTl70_"
      },
      "source": [
        "## EDA - Exploratory Data Analysis"
      ]
    },
    {
      "cell_type": "markdown",
      "metadata": {
        "id": "PSNPOnP8mw2Q"
      },
      "source": [
        "**Display count for the train dataset:**"
      ]
    },
    {
      "cell_type": "code",
      "metadata": {
        "id": "zrtpG11Fl9HM",
        "colab": {
          "base_uri": "https://localhost:8080/"
        },
        "outputId": "d437dd72-fa72-4d22-c3b2-9cf98d7f44f2"
      },
      "source": [
        "train_df.count()"
      ],
      "execution_count": 8,
      "outputs": [
        {
          "output_type": "execute_result",
          "data": {
            "text/plain": [
              "891"
            ]
          },
          "metadata": {},
          "execution_count": 8
        }
      ]
    },
    {
      "cell_type": "markdown",
      "metadata": {
        "id": "t_6nnTfxm9_x"
      },
      "source": [
        "**Can you answer this question:** \n",
        "\n",
        "**How many people survived, and how many didn't survive?** \n",
        "\n",
        "**Please save data in a variable.**"
      ]
    },
    {
      "cell_type": "code",
      "metadata": {
        "id": "QDoqPwyomYxA"
      },
      "source": [
        "survived = train_df.select('Survived').where(train_df['Survived']==1).count()\n",
        "un_survived = train_df.select('Survived').where(train_df['Survived']==0).count()"
      ],
      "execution_count": 9,
      "outputs": []
    },
    {
      "cell_type": "markdown",
      "metadata": {
        "id": "P8DUtZXPn46m"
      },
      "source": [
        "**Display your result:**"
      ]
    },
    {
      "cell_type": "code",
      "metadata": {
        "id": "0XHAK8ceoCMU",
        "colab": {
          "base_uri": "https://localhost:8080/"
        },
        "outputId": "3497df82-c993-4d4d-ac2d-275517cc4211"
      },
      "source": [
        "print('survived:' ,survived)\n",
        "print('un_survived :', un_survived)"
      ],
      "execution_count": 10,
      "outputs": [
        {
          "output_type": "stream",
          "name": "stdout",
          "text": [
            "survived: 342\n",
            "un_survived : 549\n"
          ]
        }
      ]
    },
    {
      "cell_type": "markdown",
      "metadata": {
        "id": "Ygsg7wQqor9a"
      },
      "source": [
        "**Can you display your answer in ratio form?(Hint: Use \"UDF\" Function. (Hint: Use \"UDF\" Function. This is a hint you can use any method.)**\n",
        "\n",
        "\n",
        "\n",
        "\n"
      ]
    },
    {
      "cell_type": "code",
      "metadata": {
        "id": "3uiaN29PoQnf"
      },
      "source": [
        "'''\n",
        "def get_ratio( col):\n",
        "  R1 = col/ train_df.count()\n",
        "  return R1\n",
        "  '''\n",
        "def get_ratio(col) : \n",
        "  survived = train_df.select(col).where(train_df[col]==1).count()\n",
        "  un_survived = train_df.select(col).where(train_df[col]==0).count()\n",
        "  R1 = survived / train_df.count()\n",
        "  R2 = un_survived / train_df.count()\n",
        "  return R1,R2"
      ],
      "execution_count": 11,
      "outputs": []
    },
    {
      "cell_type": "code",
      "metadata": {
        "id": "DN0qOb6rdXSY"
      },
      "source": [
        "\n"
      ],
      "execution_count": 12,
      "outputs": []
    },
    {
      "cell_type": "code",
      "metadata": {
        "id": "H6pc6P1CeOoR"
      },
      "source": [
        "#convertUDF = udf(lambda z: get_ratio(z))"
      ],
      "execution_count": null,
      "outputs": []
    },
    {
      "cell_type": "code",
      "metadata": {
        "colab": {
          "base_uri": "https://localhost:8080/"
        },
        "id": "WWzuW6LHeqfP",
        "outputId": "4cb6219d-c91a-4854-ee02-8f85ce7c02ed"
      },
      "source": [
        "from pyspark.sql import functions as F\n",
        "F.col('Survived')\n",
        "#convertUDF(train_df['Survived'])"
      ],
      "execution_count": 13,
      "outputs": [
        {
          "output_type": "execute_result",
          "data": {
            "text/plain": [
              "Column<'Survived'>"
            ]
          },
          "metadata": {},
          "execution_count": 13
        }
      ]
    },
    {
      "cell_type": "markdown",
      "metadata": {
        "id": "Q7Aker_lp1h4"
      },
      "source": [
        "**Can you get the number of males and females?**\n"
      ]
    },
    {
      "cell_type": "code",
      "metadata": {
        "id": "XllkDlo3ongJ"
      },
      "source": [
        "female_num = train_df.select('Sex').where(train_df['Sex']=='female').count()\n",
        "male_num = train_df.select('Sex').where(train_df['Sex']=='male').count()"
      ],
      "execution_count": 14,
      "outputs": []
    },
    {
      "cell_type": "markdown",
      "metadata": {
        "id": "YHFaJ15zqtEV"
      },
      "source": [
        "**1. What is the average number of survivors of each gender?**\n",
        "\n",
        "**2. What is the number of survivors of each gender?**\n",
        "\n",
        "(Hint: Group by the \"sex\" column. This is a hint you can use any method.)"
      ]
    },
    {
      "cell_type": "code",
      "metadata": {
        "id": "NUikH7MUqdKq",
        "colab": {
          "base_uri": "https://localhost:8080/"
        },
        "outputId": "ff056b83-0d90-4dc3-a008-4f353e0fe25a"
      },
      "source": [
        "train_df.groupBy('Sex').agg(avg('Survived')).show()\n",
        "train_df.groupBy('Sex').agg(count('Survived')).show()"
      ],
      "execution_count": 15,
      "outputs": [
        {
          "output_type": "stream",
          "name": "stdout",
          "text": [
            "+------+-------------------+\n",
            "|   Sex|      avg(Survived)|\n",
            "+------+-------------------+\n",
            "|female| 0.7420382165605095|\n",
            "|  male|0.18890814558058924|\n",
            "+------+-------------------+\n",
            "\n",
            "+------+---------------+\n",
            "|   Sex|count(Survived)|\n",
            "+------+---------------+\n",
            "|female|            314|\n",
            "|  male|            577|\n",
            "+------+---------------+\n",
            "\n"
          ]
        }
      ]
    },
    {
      "cell_type": "markdown",
      "metadata": {
        "id": "kCEdYNdArtRN"
      },
      "source": [
        "**Create temporary view PySpark:**"
      ]
    },
    {
      "cell_type": "code",
      "metadata": {
        "id": "YjlK6HDUqsI5"
      },
      "source": [
        "train_df.createOrReplaceTempView(\"df1_tbl\")"
      ],
      "execution_count": 16,
      "outputs": []
    },
    {
      "cell_type": "markdown",
      "metadata": {
        "id": "JXNePifnshHr"
      },
      "source": [
        "**How many people survived, and how many didn't survive? By SQL:**"
      ]
    },
    {
      "cell_type": "code",
      "metadata": {
        "id": "0HxfPRTMslqk"
      },
      "source": [
        "suv=spark.sql('SELECT * FROM df1_tbl where Survived = \"1\" ')\n",
        "non_suv=spark.sql('SELECT * FROM df1_tbl where Survived = \"0\" ')\n"
      ],
      "execution_count": 17,
      "outputs": []
    },
    {
      "cell_type": "markdown",
      "metadata": {
        "id": "sVCdY6EasFWV"
      },
      "source": [
        "**Can you display the number of survivors from each gender as a ratio?**\n",
        "\n",
        "(Hint: Group by \"sex\" column. This is a hint you can use any method.)\n",
        "\n",
        "**Can you do this via SQL?**"
      ]
    },
    {
      "cell_type": "code",
      "metadata": {
        "id": "7xQc3pUUr3HF",
        "colab": {
          "base_uri": "https://localhost:8080/"
        },
        "outputId": "652e093d-d612-4f36-c987-05e1440c8367"
      },
      "source": [
        "spark.sql('SELECT AVG(Survived) FROM df1_tbl  group by Sex').show()\n",
        "#spark.sql('(SELECT count(Survived) FROM df1_tbl where Survived=\"0\"  group by Sex) (Select count(*) )').show()\n",
        "#non_suv1=spark.sql('SELECT * FROM df1_tbl where Survived = \"0\" ')"
      ],
      "execution_count": 18,
      "outputs": [
        {
          "output_type": "stream",
          "name": "stdout",
          "text": [
            "+-------------------+\n",
            "|      avg(Survived)|\n",
            "+-------------------+\n",
            "| 0.7420382165605095|\n",
            "|0.18890814558058924|\n",
            "+-------------------+\n",
            "\n"
          ]
        }
      ]
    },
    {
      "cell_type": "markdown",
      "metadata": {
        "id": "j6QXc5V8uu3Y"
      },
      "source": [
        "**Display a ratio for \"p-class\": SUM(Survived)/count for p-class**\n"
      ]
    },
    {
      "cell_type": "code",
      "metadata": {
        "id": "Mscs2mDFdFsD",
        "colab": {
          "base_uri": "https://localhost:8080/"
        },
        "outputId": "ccbf38e0-326d-409b-ab64-45d9676df5f9"
      },
      "source": [
        "p_ratio = spark.sql('Select SUM(Survived)/count(Pclass) from df1_tbl group by Pclass ').show()"
      ],
      "execution_count": 19,
      "outputs": [
        {
          "output_type": "stream",
          "name": "stdout",
          "text": [
            "+-------------------------------------------------------------------------------+\n",
            "|(CAST(sum(CAST(Survived AS BIGINT)) AS DOUBLE) / CAST(count(Pclass) AS DOUBLE))|\n",
            "+-------------------------------------------------------------------------------+\n",
            "|                                                             0.6296296296296297|\n",
            "|                                                            0.24236252545824846|\n",
            "|                                                            0.47282608695652173|\n",
            "+-------------------------------------------------------------------------------+\n",
            "\n"
          ]
        }
      ]
    },
    {
      "cell_type": "markdown",
      "metadata": {
        "id": "EX0klxwAvg6J"
      },
      "source": [
        "**Let's take a break and continue after this.**"
      ]
    },
    {
      "cell_type": "markdown",
      "metadata": {
        "id": "_ctM9t8atxJl"
      },
      "source": [
        "## Data Cleaning"
      ]
    },
    {
      "cell_type": "markdown",
      "metadata": {
        "id": "7CfanZTCt6Wk"
      },
      "source": [
        "**First and foremost, we must merge both the train and test datasets. (Hint: The union function can do this.)**\n",
        "\n"
      ]
    },
    {
      "cell_type": "code",
      "metadata": {
        "id": "8Nm8S1K0r4uY"
      },
      "source": [
        "test_df = spark.read.csv('test (4).csv' , header=True , inferSchema=True)\n",
        "total_df = train_df.union(test_df)"
      ],
      "execution_count": 20,
      "outputs": []
    },
    {
      "cell_type": "code",
      "metadata": {
        "colab": {
          "base_uri": "https://localhost:8080/"
        },
        "id": "mUdWyKQRfAAB",
        "outputId": "9bcd09a6-641a-485f-ebf6-1f1de34266d5"
      },
      "source": [
        "total_df.dtypes"
      ],
      "execution_count": 21,
      "outputs": [
        {
          "output_type": "execute_result",
          "data": {
            "text/plain": [
              "[('PassengerId', 'int'),\n",
              " ('Survived', 'int'),\n",
              " ('Pclass', 'int'),\n",
              " ('Name', 'string'),\n",
              " ('Sex', 'string'),\n",
              " ('Age', 'double'),\n",
              " ('SibSp', 'int'),\n",
              " ('Parch', 'int'),\n",
              " ('Ticket', 'string'),\n",
              " ('Fare', 'double'),\n",
              " ('Cabin', 'string'),\n",
              " ('Embarked', 'string')]"
            ]
          },
          "metadata": {},
          "execution_count": 21
        }
      ]
    },
    {
      "cell_type": "markdown",
      "metadata": {
        "id": "jI7AD8FLz3iO"
      },
      "source": [
        "**Display count:**"
      ]
    },
    {
      "cell_type": "code",
      "metadata": {
        "id": "s_WERAL8wvJa",
        "colab": {
          "base_uri": "https://localhost:8080/"
        },
        "outputId": "623055ec-a79b-40f9-d158-9622860b296b"
      },
      "source": [
        "total_df.count()"
      ],
      "execution_count": 22,
      "outputs": [
        {
          "output_type": "execute_result",
          "data": {
            "text/plain": [
              "1329"
            ]
          },
          "metadata": {},
          "execution_count": 22
        }
      ]
    },
    {
      "cell_type": "markdown",
      "metadata": {
        "id": "5R4Miuy0z_uP"
      },
      "source": [
        "**Can you define the number of null values in each column?**\n"
      ]
    },
    {
      "cell_type": "code",
      "metadata": {
        "id": "0LMOalKBxhpD"
      },
      "source": [
        "#total_df.createOrReplaceTempView(\"df1_tb2\")\n",
        "total_withNulls = total_df.select([count(when(isnan(c) | col(c).isNull(), c)).alias(c) for c in total_df.columns])\n"
      ],
      "execution_count": 23,
      "outputs": []
    },
    {
      "cell_type": "code",
      "metadata": {
        "colab": {
          "base_uri": "https://localhost:8080/"
        },
        "id": "pYhDr-so0ed-",
        "outputId": "4ce1811d-8914-40de-b4cd-34f5c1e6edfc"
      },
      "source": [
        "#total_df.show()\n",
        "total_df.dtypes"
      ],
      "execution_count": 24,
      "outputs": [
        {
          "output_type": "execute_result",
          "data": {
            "text/plain": [
              "[('PassengerId', 'int'),\n",
              " ('Survived', 'int'),\n",
              " ('Pclass', 'int'),\n",
              " ('Name', 'string'),\n",
              " ('Sex', 'string'),\n",
              " ('Age', 'double'),\n",
              " ('SibSp', 'int'),\n",
              " ('Parch', 'int'),\n",
              " ('Ticket', 'string'),\n",
              " ('Fare', 'double'),\n",
              " ('Cabin', 'string'),\n",
              " ('Embarked', 'string')]"
            ]
          },
          "metadata": {},
          "execution_count": 24
        }
      ]
    },
    {
      "cell_type": "markdown",
      "metadata": {
        "id": "tBX8cJ000aqe"
      },
      "source": [
        "**Create Dataframe for null values**\n",
        "\n",
        "1. Column\n",
        "2. Number of missing values."
      ]
    },
    {
      "cell_type": "code",
      "metadata": {
        "id": "ITmyUelNxjJM",
        "colab": {
          "base_uri": "https://localhost:8080/"
        },
        "outputId": "500c51bd-a2c9-40c1-b1b4-db4080cfcc21"
      },
      "source": [
        "nulls = total_withNulls.select([F.col('Age') , F.col('Cabin') , F.col('Embarked')])\n",
        "nulls.show()\n"
      ],
      "execution_count": 25,
      "outputs": [
        {
          "output_type": "stream",
          "name": "stdout",
          "text": [
            "+---+-----+--------+\n",
            "|Age|Cabin|Embarked|\n",
            "+---+-----+--------+\n",
            "|265| 1021|       3|\n",
            "+---+-----+--------+\n",
            "\n"
          ]
        }
      ]
    },
    {
      "cell_type": "markdown",
      "metadata": {
        "id": "cuKrOi5a0-Ma"
      },
      "source": [
        "## Preprocessing "
      ]
    },
    {
      "cell_type": "markdown",
      "metadata": {
        "id": "lVQlr9vDy7Y4"
      },
      "source": [
        "**Create Temporary view PySpark:**"
      ]
    },
    {
      "cell_type": "code",
      "metadata": {
        "id": "xs3yeXhGI8rv"
      },
      "source": [
        "total_df.createOrReplaceTempView(\"df1_tb2\")"
      ],
      "execution_count": 26,
      "outputs": []
    },
    {
      "cell_type": "markdown",
      "metadata": {
        "id": "Txa8NZIO1JaP"
      },
      "source": [
        "**Can you show the \"name\" column from your temporary table?**"
      ]
    },
    {
      "cell_type": "code",
      "metadata": {
        "id": "m7yXqJoJy35k",
        "colab": {
          "base_uri": "https://localhost:8080/"
        },
        "outputId": "b34f80a9-472b-47b2-d2e0-711c8d46c9c1"
      },
      "source": [
        "spark.sql('Select name from df1_tb2 ').show()"
      ],
      "execution_count": 27,
      "outputs": [
        {
          "output_type": "stream",
          "name": "stdout",
          "text": [
            "+--------------------+\n",
            "|                name|\n",
            "+--------------------+\n",
            "|Braund, Mr. Owen ...|\n",
            "|Cumings, Mrs. Joh...|\n",
            "|Heikkinen, Miss. ...|\n",
            "|Futrelle, Mrs. Ja...|\n",
            "|Allen, Mr. Willia...|\n",
            "|    Moran, Mr. James|\n",
            "|McCarthy, Mr. Tim...|\n",
            "|Palsson, Master. ...|\n",
            "|Johnson, Mrs. Osc...|\n",
            "|Nasser, Mrs. Nich...|\n",
            "|Sandstrom, Miss. ...|\n",
            "|Bonnell, Miss. El...|\n",
            "|Saundercock, Mr. ...|\n",
            "|Andersson, Mr. An...|\n",
            "|Vestrom, Miss. Hu...|\n",
            "|Hewlett, Mrs. (Ma...|\n",
            "|Rice, Master. Eugene|\n",
            "|Williams, Mr. Cha...|\n",
            "|Vander Planke, Mr...|\n",
            "|Masselmani, Mrs. ...|\n",
            "+--------------------+\n",
            "only showing top 20 rows\n",
            "\n"
          ]
        }
      ]
    },
    {
      "cell_type": "markdown",
      "metadata": {
        "id": "3F0F9cTZ2Cuz"
      },
      "source": [
        "**Run this code:**"
      ]
    },
    {
      "cell_type": "code",
      "metadata": {
        "id": "0kx6OcB-2BBT",
        "colab": {
          "base_uri": "https://localhost:8080/"
        },
        "outputId": "a5815d30-8e26-4b7f-f423-0490a7297b17"
      },
      "source": [
        "import pyspark.sql.functions as F\n",
        "combined = total_df.withColumn('Title',F.regexp_extract(F.col(\"Name\"),\"([A-Za-z]+)\\.\",1))\n",
        "combined.createOrReplaceTempView('combined')\n",
        "combined.dtypes"
      ],
      "execution_count": 28,
      "outputs": [
        {
          "output_type": "execute_result",
          "data": {
            "text/plain": [
              "[('PassengerId', 'int'),\n",
              " ('Survived', 'int'),\n",
              " ('Pclass', 'int'),\n",
              " ('Name', 'string'),\n",
              " ('Sex', 'string'),\n",
              " ('Age', 'double'),\n",
              " ('SibSp', 'int'),\n",
              " ('Parch', 'int'),\n",
              " ('Ticket', 'string'),\n",
              " ('Fare', 'double'),\n",
              " ('Cabin', 'string'),\n",
              " ('Embarked', 'string'),\n",
              " ('Title', 'string')]"
            ]
          },
          "metadata": {},
          "execution_count": 28
        }
      ]
    },
    {
      "cell_type": "markdown",
      "metadata": {
        "id": "xbZeUWS12r59"
      },
      "source": [
        "**Display \"Title\" column and count \"Title\" column:**"
      ]
    },
    {
      "cell_type": "code",
      "metadata": {
        "id": "hGkFMtlp1FAI",
        "colab": {
          "base_uri": "https://localhost:8080/"
        },
        "outputId": "9b7d3d48-99b9-4477-c25e-a352b3d9d55c"
      },
      "source": [
        "#combined.show()\n",
        "counts = spark.sql('Select Title ,count(Title) from combined group by Title')\n",
        "type(counts)\n"
      ],
      "execution_count": 29,
      "outputs": [
        {
          "output_type": "execute_result",
          "data": {
            "text/plain": [
              "pyspark.sql.dataframe.DataFrame"
            ]
          },
          "metadata": {},
          "execution_count": 29
        }
      ]
    },
    {
      "cell_type": "markdown",
      "metadata": {
        "id": "nLBQDKYu4JOa"
      },
      "source": [
        "**We can see that Dr, Rev, Major, Col, Mlle, Capt, Don, Jonkheer, Countess, Ms, Sir, Lady, and Mme are really rare titles, so create Dictionary and set the value to \"rare\".**"
      ]
    },
    {
      "cell_type": "code",
      "metadata": {
        "id": "rjnx5l5r2Qaf"
      },
      "source": [
        "titles = ['Dr' , 'Rev', 'Major', 'Col', 'Mlle', 'Capt', 'Don', 'Jonkheer', 'Countess', 'Ms', 'Sir', 'Lady','Mme']\n",
        "dictt = {'rare' : titles}"
      ],
      "execution_count": 30,
      "outputs": []
    },
    {
      "cell_type": "markdown",
      "metadata": {
        "id": "9wrE95Cv7Oqh"
      },
      "source": [
        "**Run the function:**"
      ]
    },
    {
      "cell_type": "code",
      "metadata": {
        "id": "HdDbWuDl7Pf4"
      },
      "source": [
        "@udf(returnType=StringType()) \n",
        "def impute_title(title):\n",
        "  if title in titles:\n",
        "     title = 'rare'\n",
        "     return title\n",
        "  else :\n",
        "    return title\n",
        "    # Title_map is your dictionary. please change this name with your dictionary name."
      ],
      "execution_count": 31,
      "outputs": []
    },
    {
      "cell_type": "markdown",
      "metadata": {
        "id": "f5EQVIhK7a9R"
      },
      "source": [
        "**Apply the function on \"Title\" column using UDF:**"
      ]
    },
    {
      "cell_type": "code",
      "metadata": {
        "id": "rBAiIOn77XFa"
      },
      "source": [
        "combined = combined.withColumn(\"Created_Name\", impute_title(F.col('Title')))\n"
      ],
      "execution_count": 32,
      "outputs": []
    },
    {
      "cell_type": "code",
      "metadata": {
        "colab": {
          "base_uri": "https://localhost:8080/"
        },
        "id": "NXE0UD0j9tPm",
        "outputId": "f3a205e9-5034-4297-fccc-199b744d60bc"
      },
      "source": [
        "combined.select('Created_Name').where(combined['Created_Name']=='rare').show()"
      ],
      "execution_count": 33,
      "outputs": [
        {
          "output_type": "stream",
          "name": "stdout",
          "text": [
            "+------------+\n",
            "|Created_Name|\n",
            "+------------+\n",
            "|        rare|\n",
            "|        rare|\n",
            "|        rare|\n",
            "|        rare|\n",
            "|        rare|\n",
            "|        rare|\n",
            "|        rare|\n",
            "|        rare|\n",
            "|        rare|\n",
            "|        rare|\n",
            "|        rare|\n",
            "|        rare|\n",
            "|        rare|\n",
            "|        rare|\n",
            "|        rare|\n",
            "|        rare|\n",
            "|        rare|\n",
            "|        rare|\n",
            "|        rare|\n",
            "|        rare|\n",
            "+------------+\n",
            "only showing top 20 rows\n",
            "\n"
          ]
        }
      ]
    },
    {
      "cell_type": "markdown",
      "metadata": {
        "id": "sn8ewllf7kiV"
      },
      "source": [
        "**Display \"Title\" from table and group by \"Title\" column:**"
      ]
    },
    {
      "cell_type": "code",
      "metadata": {
        "id": "J9sjQb084GU6",
        "colab": {
          "base_uri": "https://localhost:8080/"
        },
        "outputId": "49e75024-7b2d-4759-92a7-8857d8134393"
      },
      "source": [
        "spark.sql('Select Title from combined group by Title').show()"
      ],
      "execution_count": 34,
      "outputs": [
        {
          "output_type": "stream",
          "name": "stdout",
          "text": [
            "+--------+\n",
            "|   Title|\n",
            "+--------+\n",
            "|     Don|\n",
            "|    Miss|\n",
            "|Countess|\n",
            "|     Col|\n",
            "|     Rev|\n",
            "|    Lady|\n",
            "|  Master|\n",
            "|     Mme|\n",
            "|    Capt|\n",
            "|      Mr|\n",
            "|      Dr|\n",
            "|     Mrs|\n",
            "|     Sir|\n",
            "|Jonkheer|\n",
            "|    Mlle|\n",
            "|   Major|\n",
            "|      Ms|\n",
            "+--------+\n",
            "\n"
          ]
        }
      ]
    },
    {
      "cell_type": "markdown",
      "metadata": {
        "id": "-H45QNLj9vJp"
      },
      "source": [
        "## **Preprocessing Age**"
      ]
    },
    {
      "cell_type": "markdown",
      "metadata": {
        "id": "XwRAhumK-u__"
      },
      "source": [
        "**Based on the \"age\" column mean, you will fill in the missing age values:**"
      ]
    },
    {
      "cell_type": "code",
      "metadata": {
        "id": "eXYSVzvl4z63",
        "colab": {
          "base_uri": "https://localhost:8080/"
        },
        "outputId": "7adfe15c-056f-4c1e-ae92-f88fe20b637e"
      },
      "source": [
        "#mean =  spark.sql('select AVG(Age) from combined')\n",
        "mean = combined.agg(avg('Age')).collect()[0][0]\n",
        "type(mean)"
      ],
      "execution_count": 102,
      "outputs": [
        {
          "output_type": "execute_result",
          "data": {
            "text/plain": [
              "float"
            ]
          },
          "metadata": {},
          "execution_count": 102
        }
      ]
    },
    {
      "cell_type": "markdown",
      "metadata": {
        "id": "JLPivde8_GI-"
      },
      "source": [
        "**Fill missing with \"age\" mean:**"
      ]
    },
    {
      "cell_type": "code",
      "metadata": {
        "id": "lBgW8aFD90PA",
        "colab": {
          "base_uri": "https://localhost:8080/"
        },
        "outputId": "dc237378-a291-4869-f83a-36c5e95fc79e"
      },
      "source": [
        "new_com = combined.fillna(value = mean , subset='Age')\n",
        "new_com.show()"
      ],
      "execution_count": 111,
      "outputs": [
        {
          "output_type": "stream",
          "name": "stdout",
          "text": [
            "+-----------+--------+------+--------------------+------+------------------+-----+-----+----------------+-------+-----+--------+------+------------+\n",
            "|PassengerId|Survived|Pclass|                Name|   Sex|               Age|SibSp|Parch|          Ticket|   Fare|Cabin|Embarked| Title|Created_Name|\n",
            "+-----------+--------+------+--------------------+------+------------------+-----+-----+----------------+-------+-----+--------+------+------------+\n",
            "|          1|       0|     3|Braund, Mr. Owen ...|  male|              22.0|    1|    0|       A/5 21171|   7.25| null|       S|    Mr|          Mr|\n",
            "|          2|       1|     1|Cumings, Mrs. Joh...|female|              38.0|    1|    0|        PC 17599|71.2833|  C85|       C|   Mrs|         Mrs|\n",
            "|          3|       1|     3|Heikkinen, Miss. ...|female|              26.0|    0|    0|STON/O2. 3101282|  7.925| null|       S|  Miss|        Miss|\n",
            "|          4|       1|     1|Futrelle, Mrs. Ja...|female|              35.0|    1|    0|          113803|   53.1| C123|       S|   Mrs|         Mrs|\n",
            "|          5|       0|     3|Allen, Mr. Willia...|  male|              35.0|    0|    0|          373450|   8.05| null|       S|    Mr|          Mr|\n",
            "|          6|       0|     3|    Moran, Mr. James|  male|30.079501879699244|    0|    0|          330877| 8.4583| null|       Q|    Mr|          Mr|\n",
            "|          7|       0|     1|McCarthy, Mr. Tim...|  male|              54.0|    0|    0|           17463|51.8625|  E46|       S|    Mr|          Mr|\n",
            "|          8|       0|     3|Palsson, Master. ...|  male|               2.0|    3|    1|          349909| 21.075| null|       S|Master|      Master|\n",
            "|          9|       1|     3|Johnson, Mrs. Osc...|female|              27.0|    0|    2|          347742|11.1333| null|       S|   Mrs|         Mrs|\n",
            "|         10|       1|     2|Nasser, Mrs. Nich...|female|              14.0|    1|    0|          237736|30.0708| null|       C|   Mrs|         Mrs|\n",
            "|         11|       1|     3|Sandstrom, Miss. ...|female|               4.0|    1|    1|         PP 9549|   16.7|   G6|       S|  Miss|        Miss|\n",
            "|         12|       1|     1|Bonnell, Miss. El...|female|              58.0|    0|    0|          113783|  26.55| C103|       S|  Miss|        Miss|\n",
            "|         13|       0|     3|Saundercock, Mr. ...|  male|              20.0|    0|    0|       A/5. 2151|   8.05| null|       S|    Mr|          Mr|\n",
            "|         14|       0|     3|Andersson, Mr. An...|  male|              39.0|    1|    5|          347082| 31.275| null|       S|    Mr|          Mr|\n",
            "|         15|       0|     3|Vestrom, Miss. Hu...|female|              14.0|    0|    0|          350406| 7.8542| null|       S|  Miss|        Miss|\n",
            "|         16|       1|     2|Hewlett, Mrs. (Ma...|female|              55.0|    0|    0|          248706|   16.0| null|       S|   Mrs|         Mrs|\n",
            "|         17|       0|     3|Rice, Master. Eugene|  male|               2.0|    4|    1|          382652| 29.125| null|       Q|Master|      Master|\n",
            "|         18|       1|     2|Williams, Mr. Cha...|  male|30.079501879699244|    0|    0|          244373|   13.0| null|       S|    Mr|          Mr|\n",
            "|         19|       0|     3|Vander Planke, Mr...|female|              31.0|    1|    0|          345763|   18.0| null|       S|   Mrs|         Mrs|\n",
            "|         20|       1|     3|Masselmani, Mrs. ...|female|30.079501879699244|    0|    0|            2649|  7.225| null|       C|   Mrs|         Mrs|\n",
            "+-----------+--------+------+--------------------+------+------------------+-----+-----+----------------+-------+-----+--------+------+------------+\n",
            "only showing top 20 rows\n",
            "\n"
          ]
        }
      ]
    },
    {
      "cell_type": "markdown",
      "metadata": {
        "id": "jGsnUz-m_P95"
      },
      "source": [
        "## **Preprocessing Embarked**"
      ]
    },
    {
      "cell_type": "markdown",
      "metadata": {
        "id": "iHbbamcXMSYP"
      },
      "source": [
        "**Select \"Embarked\" column, count them, order by count Desc, and save in grouped_Embarked variable:**\n",
        "\n",
        "\n"
      ]
    },
    {
      "cell_type": "code",
      "metadata": {
        "id": "v-lRu5vc_FW7"
      },
      "source": [
        "grouped_Embarked = spark.sql('select Embarked ,count(Embarked)  from combined  group by Embarked  order by count(Embarked) DESC')\n"
      ],
      "execution_count": 112,
      "outputs": []
    },
    {
      "cell_type": "markdown",
      "metadata": {
        "id": "E1qf5u2IOQrx"
      },
      "source": [
        "**Show \"groupped_Embarked\" your variable:**"
      ]
    },
    {
      "cell_type": "code",
      "metadata": {
        "id": "jSFNDTNg_erb",
        "colab": {
          "base_uri": "https://localhost:8080/"
        },
        "outputId": "323f6eb2-d7dc-4e5e-e578-fe7c8b896f72"
      },
      "source": [
        "grouped_Embarked.show()"
      ],
      "execution_count": 113,
      "outputs": [
        {
          "output_type": "stream",
          "name": "stdout",
          "text": [
            "+--------+---------------+\n",
            "|Embarked|count(Embarked)|\n",
            "+--------+---------------+\n",
            "|       S|            962|\n",
            "|       C|            253|\n",
            "|       Q|            111|\n",
            "|    null|              0|\n",
            "+--------+---------------+\n",
            "\n"
          ]
        }
      ]
    },
    {
      "cell_type": "markdown",
      "metadata": {
        "id": "mzQWYgKBMrbp"
      },
      "source": [
        "**Get max of groupped_Embarked:** "
      ]
    },
    {
      "cell_type": "code",
      "metadata": {
        "id": "ZLYj4F7E_iqb",
        "colab": {
          "base_uri": "https://localhost:8080/"
        },
        "outputId": "065e3a23-59c3-482e-e01e-cca05bb2867f"
      },
      "source": [
        "grouped_Embarked.agg(max('count(Embarked)')).show()"
      ],
      "execution_count": 114,
      "outputs": [
        {
          "output_type": "stream",
          "name": "stdout",
          "text": [
            "+--------------------+\n",
            "|max(count(Embarked))|\n",
            "+--------------------+\n",
            "|                 962|\n",
            "+--------------------+\n",
            "\n"
          ]
        }
      ]
    },
    {
      "cell_type": "markdown",
      "metadata": {
        "id": "L8vhoEs8N2w_"
      },
      "source": [
        "**Fill missing values with max 'S' of grouped_Embarked:**"
      ]
    },
    {
      "cell_type": "code",
      "metadata": {
        "id": "LdzQCRud_mAa",
        "colab": {
          "base_uri": "https://localhost:8080/"
        },
        "outputId": "a1174916-35cc-48f1-db9f-8ec266d6bb80"
      },
      "source": [
        "maxx= grouped_Embarked.agg(max('count(Embarked)')).collect()[0][0]\n",
        "new_com = new_com.fillna(value='S' , subset=['Embarked'])\n",
        "new_com.show()"
      ],
      "execution_count": 115,
      "outputs": [
        {
          "output_type": "stream",
          "name": "stdout",
          "text": [
            "+-----------+--------+------+--------------------+------+------------------+-----+-----+----------------+-------+-----+--------+------+------------+\n",
            "|PassengerId|Survived|Pclass|                Name|   Sex|               Age|SibSp|Parch|          Ticket|   Fare|Cabin|Embarked| Title|Created_Name|\n",
            "+-----------+--------+------+--------------------+------+------------------+-----+-----+----------------+-------+-----+--------+------+------------+\n",
            "|          1|       0|     3|Braund, Mr. Owen ...|  male|              22.0|    1|    0|       A/5 21171|   7.25| null|       S|    Mr|          Mr|\n",
            "|          2|       1|     1|Cumings, Mrs. Joh...|female|              38.0|    1|    0|        PC 17599|71.2833|  C85|       C|   Mrs|         Mrs|\n",
            "|          3|       1|     3|Heikkinen, Miss. ...|female|              26.0|    0|    0|STON/O2. 3101282|  7.925| null|       S|  Miss|        Miss|\n",
            "|          4|       1|     1|Futrelle, Mrs. Ja...|female|              35.0|    1|    0|          113803|   53.1| C123|       S|   Mrs|         Mrs|\n",
            "|          5|       0|     3|Allen, Mr. Willia...|  male|              35.0|    0|    0|          373450|   8.05| null|       S|    Mr|          Mr|\n",
            "|          6|       0|     3|    Moran, Mr. James|  male|30.079501879699244|    0|    0|          330877| 8.4583| null|       Q|    Mr|          Mr|\n",
            "|          7|       0|     1|McCarthy, Mr. Tim...|  male|              54.0|    0|    0|           17463|51.8625|  E46|       S|    Mr|          Mr|\n",
            "|          8|       0|     3|Palsson, Master. ...|  male|               2.0|    3|    1|          349909| 21.075| null|       S|Master|      Master|\n",
            "|          9|       1|     3|Johnson, Mrs. Osc...|female|              27.0|    0|    2|          347742|11.1333| null|       S|   Mrs|         Mrs|\n",
            "|         10|       1|     2|Nasser, Mrs. Nich...|female|              14.0|    1|    0|          237736|30.0708| null|       C|   Mrs|         Mrs|\n",
            "|         11|       1|     3|Sandstrom, Miss. ...|female|               4.0|    1|    1|         PP 9549|   16.7|   G6|       S|  Miss|        Miss|\n",
            "|         12|       1|     1|Bonnell, Miss. El...|female|              58.0|    0|    0|          113783|  26.55| C103|       S|  Miss|        Miss|\n",
            "|         13|       0|     3|Saundercock, Mr. ...|  male|              20.0|    0|    0|       A/5. 2151|   8.05| null|       S|    Mr|          Mr|\n",
            "|         14|       0|     3|Andersson, Mr. An...|  male|              39.0|    1|    5|          347082| 31.275| null|       S|    Mr|          Mr|\n",
            "|         15|       0|     3|Vestrom, Miss. Hu...|female|              14.0|    0|    0|          350406| 7.8542| null|       S|  Miss|        Miss|\n",
            "|         16|       1|     2|Hewlett, Mrs. (Ma...|female|              55.0|    0|    0|          248706|   16.0| null|       S|   Mrs|         Mrs|\n",
            "|         17|       0|     3|Rice, Master. Eugene|  male|               2.0|    4|    1|          382652| 29.125| null|       Q|Master|      Master|\n",
            "|         18|       1|     2|Williams, Mr. Cha...|  male|30.079501879699244|    0|    0|          244373|   13.0| null|       S|    Mr|          Mr|\n",
            "|         19|       0|     3|Vander Planke, Mr...|female|              31.0|    1|    0|          345763|   18.0| null|       S|   Mrs|         Mrs|\n",
            "|         20|       1|     3|Masselmani, Mrs. ...|female|30.079501879699244|    0|    0|            2649|  7.225| null|       C|   Mrs|         Mrs|\n",
            "+-----------+--------+------+--------------------+------+------------------+-----+-----+----------------+-------+-----+--------+------+------------+\n",
            "only showing top 20 rows\n",
            "\n"
          ]
        }
      ]
    },
    {
      "cell_type": "markdown",
      "metadata": {
        "id": "TEcdV5Vb_qR_"
      },
      "source": [
        "## **Preprocessing Cabin**"
      ]
    },
    {
      "cell_type": "markdown",
      "metadata": {
        "id": "_BQzPs7tqhpA"
      },
      "source": [
        "**Replace \"cabin\" column with first char from the string:**\n",
        "\n"
      ]
    },
    {
      "cell_type": "code",
      "metadata": {
        "id": "4b6L5pK0_nQz",
        "colab": {
          "base_uri": "https://localhost:8080/"
        },
        "outputId": "c4b01a5f-f811-4331-ca9e-e3ae44311cf9"
      },
      "source": [
        "new_com = new_com.withColumn('Cabin' , substring('cabin',1,1))\n",
        "new_com.show()"
      ],
      "execution_count": 116,
      "outputs": [
        {
          "output_type": "stream",
          "name": "stdout",
          "text": [
            "+-----------+--------+------+--------------------+------+------------------+-----+-----+----------------+-------+-----+--------+------+------------+\n",
            "|PassengerId|Survived|Pclass|                Name|   Sex|               Age|SibSp|Parch|          Ticket|   Fare|Cabin|Embarked| Title|Created_Name|\n",
            "+-----------+--------+------+--------------------+------+------------------+-----+-----+----------------+-------+-----+--------+------+------------+\n",
            "|          1|       0|     3|Braund, Mr. Owen ...|  male|              22.0|    1|    0|       A/5 21171|   7.25| null|       S|    Mr|          Mr|\n",
            "|          2|       1|     1|Cumings, Mrs. Joh...|female|              38.0|    1|    0|        PC 17599|71.2833|    C|       C|   Mrs|         Mrs|\n",
            "|          3|       1|     3|Heikkinen, Miss. ...|female|              26.0|    0|    0|STON/O2. 3101282|  7.925| null|       S|  Miss|        Miss|\n",
            "|          4|       1|     1|Futrelle, Mrs. Ja...|female|              35.0|    1|    0|          113803|   53.1|    C|       S|   Mrs|         Mrs|\n",
            "|          5|       0|     3|Allen, Mr. Willia...|  male|              35.0|    0|    0|          373450|   8.05| null|       S|    Mr|          Mr|\n",
            "|          6|       0|     3|    Moran, Mr. James|  male|30.079501879699244|    0|    0|          330877| 8.4583| null|       Q|    Mr|          Mr|\n",
            "|          7|       0|     1|McCarthy, Mr. Tim...|  male|              54.0|    0|    0|           17463|51.8625|    E|       S|    Mr|          Mr|\n",
            "|          8|       0|     3|Palsson, Master. ...|  male|               2.0|    3|    1|          349909| 21.075| null|       S|Master|      Master|\n",
            "|          9|       1|     3|Johnson, Mrs. Osc...|female|              27.0|    0|    2|          347742|11.1333| null|       S|   Mrs|         Mrs|\n",
            "|         10|       1|     2|Nasser, Mrs. Nich...|female|              14.0|    1|    0|          237736|30.0708| null|       C|   Mrs|         Mrs|\n",
            "|         11|       1|     3|Sandstrom, Miss. ...|female|               4.0|    1|    1|         PP 9549|   16.7|    G|       S|  Miss|        Miss|\n",
            "|         12|       1|     1|Bonnell, Miss. El...|female|              58.0|    0|    0|          113783|  26.55|    C|       S|  Miss|        Miss|\n",
            "|         13|       0|     3|Saundercock, Mr. ...|  male|              20.0|    0|    0|       A/5. 2151|   8.05| null|       S|    Mr|          Mr|\n",
            "|         14|       0|     3|Andersson, Mr. An...|  male|              39.0|    1|    5|          347082| 31.275| null|       S|    Mr|          Mr|\n",
            "|         15|       0|     3|Vestrom, Miss. Hu...|female|              14.0|    0|    0|          350406| 7.8542| null|       S|  Miss|        Miss|\n",
            "|         16|       1|     2|Hewlett, Mrs. (Ma...|female|              55.0|    0|    0|          248706|   16.0| null|       S|   Mrs|         Mrs|\n",
            "|         17|       0|     3|Rice, Master. Eugene|  male|               2.0|    4|    1|          382652| 29.125| null|       Q|Master|      Master|\n",
            "|         18|       1|     2|Williams, Mr. Cha...|  male|30.079501879699244|    0|    0|          244373|   13.0| null|       S|    Mr|          Mr|\n",
            "|         19|       0|     3|Vander Planke, Mr...|female|              31.0|    1|    0|          345763|   18.0| null|       S|   Mrs|         Mrs|\n",
            "|         20|       1|     3|Masselmani, Mrs. ...|female|30.079501879699244|    0|    0|            2649|  7.225| null|       C|   Mrs|         Mrs|\n",
            "+-----------+--------+------+--------------------+------+------------------+-----+-----+----------------+-------+-----+--------+------+------------+\n",
            "only showing top 20 rows\n",
            "\n"
          ]
        }
      ]
    },
    {
      "cell_type": "markdown",
      "metadata": {
        "id": "6H8XshnYj4k2"
      },
      "source": [
        "**Show the result:**"
      ]
    },
    {
      "cell_type": "code",
      "metadata": {
        "id": "gJUQwnG1Oj2U",
        "colab": {
          "base_uri": "https://localhost:8080/"
        },
        "outputId": "87032223-3f23-4991-c436-b303d9201904"
      },
      "source": [
        "new_com.show()"
      ],
      "execution_count": 117,
      "outputs": [
        {
          "output_type": "stream",
          "name": "stdout",
          "text": [
            "+-----------+--------+------+--------------------+------+------------------+-----+-----+----------------+-------+-----+--------+------+------------+\n",
            "|PassengerId|Survived|Pclass|                Name|   Sex|               Age|SibSp|Parch|          Ticket|   Fare|Cabin|Embarked| Title|Created_Name|\n",
            "+-----------+--------+------+--------------------+------+------------------+-----+-----+----------------+-------+-----+--------+------+------------+\n",
            "|          1|       0|     3|Braund, Mr. Owen ...|  male|              22.0|    1|    0|       A/5 21171|   7.25| null|       S|    Mr|          Mr|\n",
            "|          2|       1|     1|Cumings, Mrs. Joh...|female|              38.0|    1|    0|        PC 17599|71.2833|    C|       C|   Mrs|         Mrs|\n",
            "|          3|       1|     3|Heikkinen, Miss. ...|female|              26.0|    0|    0|STON/O2. 3101282|  7.925| null|       S|  Miss|        Miss|\n",
            "|          4|       1|     1|Futrelle, Mrs. Ja...|female|              35.0|    1|    0|          113803|   53.1|    C|       S|   Mrs|         Mrs|\n",
            "|          5|       0|     3|Allen, Mr. Willia...|  male|              35.0|    0|    0|          373450|   8.05| null|       S|    Mr|          Mr|\n",
            "|          6|       0|     3|    Moran, Mr. James|  male|30.079501879699244|    0|    0|          330877| 8.4583| null|       Q|    Mr|          Mr|\n",
            "|          7|       0|     1|McCarthy, Mr. Tim...|  male|              54.0|    0|    0|           17463|51.8625|    E|       S|    Mr|          Mr|\n",
            "|          8|       0|     3|Palsson, Master. ...|  male|               2.0|    3|    1|          349909| 21.075| null|       S|Master|      Master|\n",
            "|          9|       1|     3|Johnson, Mrs. Osc...|female|              27.0|    0|    2|          347742|11.1333| null|       S|   Mrs|         Mrs|\n",
            "|         10|       1|     2|Nasser, Mrs. Nich...|female|              14.0|    1|    0|          237736|30.0708| null|       C|   Mrs|         Mrs|\n",
            "|         11|       1|     3|Sandstrom, Miss. ...|female|               4.0|    1|    1|         PP 9549|   16.7|    G|       S|  Miss|        Miss|\n",
            "|         12|       1|     1|Bonnell, Miss. El...|female|              58.0|    0|    0|          113783|  26.55|    C|       S|  Miss|        Miss|\n",
            "|         13|       0|     3|Saundercock, Mr. ...|  male|              20.0|    0|    0|       A/5. 2151|   8.05| null|       S|    Mr|          Mr|\n",
            "|         14|       0|     3|Andersson, Mr. An...|  male|              39.0|    1|    5|          347082| 31.275| null|       S|    Mr|          Mr|\n",
            "|         15|       0|     3|Vestrom, Miss. Hu...|female|              14.0|    0|    0|          350406| 7.8542| null|       S|  Miss|        Miss|\n",
            "|         16|       1|     2|Hewlett, Mrs. (Ma...|female|              55.0|    0|    0|          248706|   16.0| null|       S|   Mrs|         Mrs|\n",
            "|         17|       0|     3|Rice, Master. Eugene|  male|               2.0|    4|    1|          382652| 29.125| null|       Q|Master|      Master|\n",
            "|         18|       1|     2|Williams, Mr. Cha...|  male|30.079501879699244|    0|    0|          244373|   13.0| null|       S|    Mr|          Mr|\n",
            "|         19|       0|     3|Vander Planke, Mr...|female|              31.0|    1|    0|          345763|   18.0| null|       S|   Mrs|         Mrs|\n",
            "|         20|       1|     3|Masselmani, Mrs. ...|female|30.079501879699244|    0|    0|            2649|  7.225| null|       C|   Mrs|         Mrs|\n",
            "+-----------+--------+------+--------------------+------+------------------+-----+-----+----------------+-------+-----+--------+------+------------+\n",
            "only showing top 20 rows\n",
            "\n"
          ]
        }
      ]
    },
    {
      "cell_type": "markdown",
      "metadata": {
        "id": "yzSDsWsUj9Im"
      },
      "source": [
        "**Create the temporary view:**"
      ]
    },
    {
      "cell_type": "code",
      "metadata": {
        "id": "MR7CXTY7_tMJ"
      },
      "source": [
        "new_com.createOrReplaceTempView(\"df1_tb3\")"
      ],
      "execution_count": 118,
      "outputs": []
    },
    {
      "cell_type": "markdown",
      "metadata": {
        "id": "Gv7lfQFkrLlN"
      },
      "source": [
        "**Select \"Cabin\" column, count \"Cabin\" column, Group by \"Cabin\" column, Order By count DESC**  "
      ]
    },
    {
      "cell_type": "code",
      "metadata": {
        "id": "A0tZG_mvrKXv",
        "colab": {
          "base_uri": "https://localhost:8080/"
        },
        "outputId": "1a9aa099-29ce-44d5-d49c-00bdf6f5e840"
      },
      "source": [
        " spark.sql('select Cabin ,count(Cabin)  from df1_tb3  group by Cabin  order by count(Cabin) DESC').show()\n"
      ],
      "execution_count": 119,
      "outputs": [
        {
          "output_type": "stream",
          "name": "stdout",
          "text": [
            "+-----+------------+\n",
            "|Cabin|count(Cabin)|\n",
            "+-----+------------+\n",
            "|    C|          82|\n",
            "|    B|          77|\n",
            "|    D|          52|\n",
            "|    E|          51|\n",
            "|    A|          23|\n",
            "|    F|          18|\n",
            "|    G|           4|\n",
            "|    T|           1|\n",
            "| null|           0|\n",
            "+-----+------------+\n",
            "\n"
          ]
        }
      ]
    },
    {
      "cell_type": "markdown",
      "metadata": {
        "id": "1GR6j0LOsB4y"
      },
      "source": [
        "**Fill missing values with \"U\":**"
      ]
    },
    {
      "cell_type": "code",
      "metadata": {
        "id": "mwq5CHEz_up_",
        "colab": {
          "base_uri": "https://localhost:8080/"
        },
        "outputId": "a0c72894-fb13-48c6-ca88-49db83230b1f"
      },
      "source": [
        "new_com = new_com.fillna(value='U' , subset=['Cabin'])\n",
        "new_com.dtypes"
      ],
      "execution_count": 121,
      "outputs": [
        {
          "output_type": "execute_result",
          "data": {
            "text/plain": [
              "[('PassengerId', 'int'),\n",
              " ('Survived', 'int'),\n",
              " ('Pclass', 'int'),\n",
              " ('Name', 'string'),\n",
              " ('Sex', 'string'),\n",
              " ('Age', 'double'),\n",
              " ('SibSp', 'int'),\n",
              " ('Parch', 'int'),\n",
              " ('Ticket', 'string'),\n",
              " ('Fare', 'double'),\n",
              " ('Cabin', 'string'),\n",
              " ('Embarked', 'string'),\n",
              " ('Title', 'string'),\n",
              " ('Created_Name', 'string')]"
            ]
          },
          "metadata": {},
          "execution_count": 121
        }
      ]
    },
    {
      "cell_type": "markdown",
      "metadata": {
        "id": "RRnhA_5-0Hi4"
      },
      "source": [
        "**StringIndexer: A label indexer that maps a string column of labels to an ML column of label indices. If the input column is numeric, we cast it to string and index the string values. The indices are in [0, numLabels). By default, this is ordered by label frequencies so the most frequent label gets index 0. The ordering behavior is controlled by setting stringOrderType. Its default value is ‘frequencyDesc’.**"
      ]
    },
    {
      "cell_type": "markdown",
      "metadata": {
        "id": "1RIKlOX71GQ-"
      },
      "source": [
        "**StringIndexer(inputCol=None, outputCol=None)**"
      ]
    },
    {
      "cell_type": "code",
      "metadata": {
        "colab": {
          "base_uri": "https://localhost:8080/"
        },
        "id": "aUnTW9FgWtpA",
        "outputId": "03b207f9-a5a2-499c-bc10-fb4273a53db5"
      },
      "source": [
        "trainDF, testDF = new_com.randomSplit([.8,.2],seed=42)\n",
        "trainDF.dtypes\n"
      ],
      "execution_count": 122,
      "outputs": [
        {
          "output_type": "execute_result",
          "data": {
            "text/plain": [
              "[('PassengerId', 'int'),\n",
              " ('Survived', 'int'),\n",
              " ('Pclass', 'int'),\n",
              " ('Name', 'string'),\n",
              " ('Sex', 'string'),\n",
              " ('Age', 'double'),\n",
              " ('SibSp', 'int'),\n",
              " ('Parch', 'int'),\n",
              " ('Ticket', 'string'),\n",
              " ('Fare', 'double'),\n",
              " ('Cabin', 'string'),\n",
              " ('Embarked', 'string'),\n",
              " ('Title', 'string'),\n",
              " ('Created_Name', 'string')]"
            ]
          },
          "metadata": {},
          "execution_count": 122
        }
      ]
    },
    {
      "cell_type": "code",
      "metadata": {
        "id": "asb9ELIbW8xp"
      },
      "source": [
        "categoricalCols  = ['Sex' , 'Cabin' , 'Embarked' , 'Created_Name']"
      ],
      "execution_count": 123,
      "outputs": []
    },
    {
      "cell_type": "code",
      "metadata": {
        "colab": {
          "base_uri": "https://localhost:8080/"
        },
        "id": "Q1d_kYWRXAcx",
        "outputId": "3b578f06-16a3-41ce-cd99-c6f91b1aa2ef"
      },
      "source": [
        "indexOutputCols = [x + \"_Index\" for x in categoricalCols]\n",
        "indexOutputCols"
      ],
      "execution_count": 124,
      "outputs": [
        {
          "output_type": "execute_result",
          "data": {
            "text/plain": [
              "['Sex_Index', 'Cabin_Index', 'Embarked_Index', 'Created_Name_Index']"
            ]
          },
          "metadata": {},
          "execution_count": 124
        }
      ]
    },
    {
      "cell_type": "code",
      "metadata": {
        "colab": {
          "base_uri": "https://localhost:8080/"
        },
        "id": "wE0_uTaiXqMy",
        "outputId": "020710a3-8452-4edd-cea6-3f39d7a47c02"
      },
      "source": [
        "oheOutputCols = [x + \"_OHE\" for x in categoricalCols]\n",
        "oheOutputCols"
      ],
      "execution_count": 125,
      "outputs": [
        {
          "output_type": "execute_result",
          "data": {
            "text/plain": [
              "['Sex_OHE', 'Cabin_OHE', 'Embarked_OHE', 'Created_Name_OHE']"
            ]
          },
          "metadata": {},
          "execution_count": 125
        }
      ]
    },
    {
      "cell_type": "code",
      "metadata": {
        "id": "odhuI2EHKuCm"
      },
      "source": [
        "from pyspark.ml.feature import StringIndexer\n",
        "from pyspark.ml.feature import OneHotEncoder\n",
        "stringIndexer = StringIndexer(inputCols=categoricalCols,\n",
        "                             outputCols=indexOutputCols,\n",
        "                             handleInvalid='skip')\n"
      ],
      "execution_count": 126,
      "outputs": []
    },
    {
      "cell_type": "markdown",
      "metadata": {
        "id": "1DECL9yCK3JZ"
      },
      "source": [
        "**OneHotEncoder(inputCols=None, outputCols=None)**\n",
        "\n",
        "A one-hot encoder that maps a column of category indices to a column of binary vectors, with at most a single one-value per row that indicates the input category index. For example with 5 categories, an input value of 2.0 would map to an output vector of [0.0, 0.0, 1.0, 0.0]. The last category is not included by default (configurable via dropLast), because it makes the vector entries sum up to one, and hence linearly dependent. So an input value of 4.0 maps to [0.0, 0.0, 0.0, 0.0]."
      ]
    },
    {
      "cell_type": "code",
      "metadata": {
        "id": "tiAjDEy1LBhz"
      },
      "source": [
        "oheEncoder = OneHotEncoder(inputCols=indexOutputCols,\n",
        "                          outputCols=oheOutputCols)"
      ],
      "execution_count": 127,
      "outputs": []
    },
    {
      "cell_type": "markdown",
      "metadata": {
        "id": "1FsiLsd9452v"
      },
      "source": [
        "**VectorAssembler: VectorAssembler(*, inputCols=None, outputCol=None). A feature transformer that merges multiple columns into a vector column.**\n",
        "\n"
      ]
    },
    {
      "cell_type": "code",
      "metadata": {
        "id": "BuytKk0hLE6p"
      },
      "source": [
        "from pyspark.ml.feature import VectorAssembler\n",
        "numericCols = ['Pclass' , 'Parch' , 'SibSp' , 'Age']\n",
        "assemblerInputs = oheOutputCols + numericCols\n",
        "assemblerInputs\n",
        "df_va = VectorAssembler(inputCols=assemblerInputs,outputCol='Features')\n"
      ],
      "execution_count": 128,
      "outputs": []
    },
    {
      "cell_type": "code",
      "metadata": {
        "colab": {
          "base_uri": "https://localhost:8080/"
        },
        "id": "ETChk9-mlFAn",
        "outputId": "5c30a4f7-7f0b-4e07-b315-7724afa37f11"
      },
      "source": [
        "assemblerInputs"
      ],
      "execution_count": 129,
      "outputs": [
        {
          "output_type": "execute_result",
          "data": {
            "text/plain": [
              "['Sex_OHE',\n",
              " 'Cabin_OHE',\n",
              " 'Embarked_OHE',\n",
              " 'Created_Name_OHE',\n",
              " 'Pclass',\n",
              " 'Parch',\n",
              " 'SibSp',\n",
              " 'Age']"
            ]
          },
          "metadata": {},
          "execution_count": 129
        }
      ]
    },
    {
      "cell_type": "markdown",
      "metadata": {
        "id": "dU8DeZfh7JIo"
      },
      "source": [
        "**Use randomSplit function and split data to x_train, and X_test with 80% and 20% Consecutive**"
      ]
    },
    {
      "cell_type": "markdown",
      "metadata": {
        "id": "c0c_Hf_b0R12"
      },
      "source": [
        "**Pipeline: ML Pipelines provide a uniform set of high-level APIs built on top of DataFrames that help users create and tune practical machine learning pipelines.**"
      ]
    },
    {
      "cell_type": "code",
      "metadata": {
        "colab": {
          "base_uri": "https://localhost:8080/"
        },
        "id": "zFDfxDmUcSvM",
        "outputId": "a5f10d47-72ac-4cab-cbfa-fb45d662a83c"
      },
      "source": [
        "trainDF.select([count(when(isnan(c) | col(c).isNull(), c)).alias(c) for c in trainDF.columns]).show()\n"
      ],
      "execution_count": 130,
      "outputs": [
        {
          "output_type": "stream",
          "name": "stdout",
          "text": [
            "+-----------+--------+------+----+---+---+-----+-----+------+----+-----+--------+-----+------------+\n",
            "|PassengerId|Survived|Pclass|Name|Sex|Age|SibSp|Parch|Ticket|Fare|Cabin|Embarked|Title|Created_Name|\n",
            "+-----------+--------+------+----+---+---+-----+-----+------+----+-----+--------+-----+------------+\n",
            "|          0|       0|     0|   0|  0|  0|    0|    0|     0|   0|    0|       0|    0|           0|\n",
            "+-----------+--------+------+----+---+---+-----+-----+------+----+-----+--------+-----+------------+\n",
            "\n"
          ]
        }
      ]
    },
    {
      "cell_type": "markdown",
      "metadata": {
        "id": "IJQvmFai72O7"
      },
      "source": [
        "**Build RandomForestClassifier model and use pipeline to fit and transform then display \"prediction, Survived, features\" columns**"
      ]
    },
    {
      "cell_type": "code",
      "metadata": {
        "id": "YnpmZqlTLPGq",
        "colab": {
          "base_uri": "https://localhost:8080/"
        },
        "outputId": "1eaf240b-9dd0-4183-feac-02f2aff05b3b"
      },
      "source": [
        "from pyspark.ml import Pipeline\n",
        "from pyspark.ml.classification import RandomForestClassifier\n",
        "clf = RandomForestClassifier(featuresCol='Features',labelCol='Survived')\n",
        "pipeline = Pipeline(stages=[stringIndexer,oheEncoder , df_va ,clf])\n",
        "trainDF.show()\n",
        "pipelineModel = pipeline.fit(trainDF)\n",
        "predDF = pipelineModel.transform(testDF)"
      ],
      "execution_count": 131,
      "outputs": [
        {
          "output_type": "stream",
          "name": "stdout",
          "text": [
            "+-----------+--------+------+--------------------+------+------------------+-----+-----+---------+-------+-----+--------+------+------------+\n",
            "|PassengerId|Survived|Pclass|                Name|   Sex|               Age|SibSp|Parch|   Ticket|   Fare|Cabin|Embarked| Title|Created_Name|\n",
            "+-----------+--------+------+--------------------+------+------------------+-----+-----+---------+-------+-----+--------+------+------------+\n",
            "|          1|       0|     3|Braund, Mr. Owen ...|  male|              22.0|    1|    0|A/5 21171|   7.25|    U|       S|    Mr|          Mr|\n",
            "|          2|       1|     1|Cumings, Mrs. Joh...|female|              38.0|    1|    0| PC 17599|71.2833|    C|       C|   Mrs|         Mrs|\n",
            "|          4|       1|     1|Futrelle, Mrs. Ja...|female|              35.0|    1|    0|   113803|   53.1|    C|       S|   Mrs|         Mrs|\n",
            "|          5|       0|     3|Allen, Mr. Willia...|  male|              35.0|    0|    0|   373450|   8.05|    U|       S|    Mr|          Mr|\n",
            "|          6|       0|     3|    Moran, Mr. James|  male|30.079501879699244|    0|    0|   330877| 8.4583|    U|       Q|    Mr|          Mr|\n",
            "|          8|       0|     3|Palsson, Master. ...|  male|               2.0|    3|    1|   349909| 21.075|    U|       S|Master|      Master|\n",
            "|         10|       1|     2|Nasser, Mrs. Nich...|female|              14.0|    1|    0|   237736|30.0708|    U|       C|   Mrs|         Mrs|\n",
            "|         11|       1|     3|Sandstrom, Miss. ...|female|               4.0|    1|    1|  PP 9549|   16.7|    G|       S|  Miss|        Miss|\n",
            "|         12|       1|     1|Bonnell, Miss. El...|female|              58.0|    0|    0|   113783|  26.55|    C|       S|  Miss|        Miss|\n",
            "|         13|       0|     3|Saundercock, Mr. ...|  male|              20.0|    0|    0|A/5. 2151|   8.05|    U|       S|    Mr|          Mr|\n",
            "|         15|       0|     3|Vestrom, Miss. Hu...|female|              14.0|    0|    0|   350406| 7.8542|    U|       S|  Miss|        Miss|\n",
            "|         16|       1|     2|Hewlett, Mrs. (Ma...|female|              55.0|    0|    0|   248706|   16.0|    U|       S|   Mrs|         Mrs|\n",
            "|         17|       0|     3|Rice, Master. Eugene|  male|               2.0|    4|    1|   382652| 29.125|    U|       Q|Master|      Master|\n",
            "|         18|       1|     2|Williams, Mr. Cha...|  male|30.079501879699244|    0|    0|   244373|   13.0|    U|       S|    Mr|          Mr|\n",
            "|         19|       0|     3|Vander Planke, Mr...|female|              31.0|    1|    0|   345763|   18.0|    U|       S|   Mrs|         Mrs|\n",
            "|         21|       0|     2|Fynney, Mr. Joseph J|  male|              35.0|    0|    0|   239865|   26.0|    U|       S|    Mr|          Mr|\n",
            "|         22|       1|     2|Beesley, Mr. Lawr...|  male|              34.0|    0|    0|   248698|   13.0|    D|       S|    Mr|          Mr|\n",
            "|         23|       1|     3|\"McGowan, Miss. A...|female|              15.0|    0|    0|   330923| 8.0292|    U|       Q|  Miss|        Miss|\n",
            "|         25|       0|     3|Palsson, Miss. To...|female|               8.0|    3|    1|   349909| 21.075|    U|       S|  Miss|        Miss|\n",
            "|         26|       1|     3|Asplund, Mrs. Car...|female|              38.0|    1|    5|   347077|31.3875|    U|       S|   Mrs|         Mrs|\n",
            "+-----------+--------+------+--------------------+------+------------------+-----+-----+---------+-------+-----+--------+------+------------+\n",
            "only showing top 20 rows\n",
            "\n"
          ]
        }
      ]
    },
    {
      "cell_type": "markdown",
      "metadata": {
        "id": "FSXEI8-r8bKY"
      },
      "source": [
        "**Use MulticlassClassificationEvaluator and set the \"labelCol\" to \"Survived\",  \"predictionCol\" to \"prediction\", \"metricName\" to \"accuracy\"** "
      ]
    },
    {
      "cell_type": "code",
      "metadata": {
        "id": "2uMjgLsltBDw"
      },
      "source": [
        ""
      ],
      "execution_count": null,
      "outputs": []
    },
    {
      "cell_type": "code",
      "metadata": {
        "id": "Rl0UAKCaBDO-"
      },
      "source": [
        "from pyspark.ml.evaluation import BinaryClassificationEvaluator\n",
        "arr  = BinaryClassificationEvaluator(rawPredictionCol='prediction',\n",
        "                                     labelCol='Survived',\n",
        "                                     metricName ='areaUnderROC').evaluate(predDF)"
      ],
      "execution_count": 136,
      "outputs": []
    },
    {
      "cell_type": "code",
      "metadata": {
        "id": "pd1cl0pHtgUA",
        "outputId": "f7d1d6a4-7ce4-4e53-f865-a77c5daa8514",
        "colab": {
          "base_uri": "https://localhost:8080/"
        }
      },
      "source": [
        "print(arr)"
      ],
      "execution_count": 139,
      "outputs": [
        {
          "output_type": "stream",
          "name": "stdout",
          "text": [
            "0.8146944568952637\n"
          ]
        }
      ]
    },
    {
      "cell_type": "markdown",
      "metadata": {
        "id": "sO6_R1zJ9R1R"
      },
      "source": [
        "**When you are finished send the project via Google classroom**\n",
        "**Please let me know if you have any questions.**\n",
        "* nabieh.mostafa@yahoo.com\n",
        "* +201015197566 (Whatsapp)\n",
        "\n",
        "**Don't Hate me, I push you to learn**\n",
        "\n",
        "**I will help you to become an awesome data engineer.**\n",
        "\n",
        "**Why did I say that \"Data Engineer\"?**\n",
        "\n",
        "**Tricky question, but an optional question, if you would like to know the answer, ask me.**\n"
      ]
    },
    {
      "cell_type": "code",
      "metadata": {
        "colab": {
          "base_uri": "https://localhost:8080/"
        },
        "id": "OsNUiWQltMXm",
        "outputId": "afd6147a-c8d6-4ba2-84bc-1df9c09d8c07"
      },
      "source": [
        ""
      ],
      "execution_count": 138,
      "outputs": [
        {
          "output_type": "stream",
          "name": "stdout",
          "text": [
            "0.8146944568952637\n"
          ]
        }
      ]
    },
    {
      "cell_type": "code",
      "metadata": {
        "id": "y1AY5jjktN7n"
      },
      "source": [
        ""
      ],
      "execution_count": null,
      "outputs": []
    }
  ]
}